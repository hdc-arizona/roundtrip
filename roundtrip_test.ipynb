{
 "cells": [
  {
   "cell_type": "markdown",
   "metadata": {},
   "source": [
    "The javascript portion of the roundtrip library is loaded into the global scope when the 'examples' extension starts."
   ]
  },
  {
   "cell_type": "code",
   "execution_count": 1,
   "metadata": {},
   "outputs": [
    {
     "data": {
      "text/html": [
       "<script src='roundtrip.js'></script>"
      ],
      "text/plain": [
       "<IPython.core.display.HTML object>"
      ]
     },
     "metadata": {},
     "output_type": "display_data"
    }
   ],
   "source": [
    "import pandas as pd\n",
    "%load_ext examples"
   ]
  },
  {
   "cell_type": "code",
   "execution_count": 2,
   "metadata": {},
   "outputs": [],
   "source": [
    "df = pd.DataFrame({\n",
    "        'vals':[111.0, 102, 401],\n",
    "        'categs':['metric1', 'metric2', 'metric3']\n",
    "})\n",
    "\n",
    "string = \"From Python\""
   ]
  },
  {
   "cell_type": "markdown",
   "metadata": {},
   "source": [
    "In the following example we show the two uses of the Roundtrip API. \n",
    "1. We show the explicit the explicit push pull by sending down a string and modifying it on the javascript side.\n",
    "2. The automatic binding will update other cells automatically. We modify the passed in dataframe data and send a request to update the ipython variable and all cells refrenceing it."
   ]
  },
  {
   "cell_type": "code",
   "execution_count": 3,
   "metadata": {
    "scrolled": false
   },
   "outputs": [
    {
     "data": {
      "text/html": [
       "<head>\n",
       "</head>\n",
       "<body>\n",
       "    <h3>Explicit Push-Pull Example</h3>\n",
       "        <div id=\"passed1\"></div>\n",
       "        <button id=\"demo\"> Click me to change data. </button>\n",
       "    <h3>Automatic Binding Example</h3>\n",
       "        <div id=\"bound1\"></div>\n",
       "        <button id=\"binding-demo\">Click me to confirm data change and show it reflected in another cell.</button>\n",
       "</body>"
      ],
      "text/plain": [
       "<IPython.core.display.HTML object>"
      ]
     },
     "metadata": {},
     "output_type": "display_data"
    },
    {
     "name": "stdout",
     "output_type": "stream",
     "text": [
      "['df', 'string']\n"
     ]
    },
    {
     "data": {
      "application/javascript": [
       "\n",
       " (function(){\n",
       "            window.Roundtrip['test'] = {\n",
       "                'origin': 'INIT',\n",
       "                'two_way': false,\n",
       "                'python_var':'string', \n",
       "                'type':'str', \n",
       "                'data':'From Python', \n",
       "                'converter':null,\n",
       "            };\n",
       "        })();\n"
      ],
      "text/plain": [
       "<IPython.core.display.Javascript object>"
      ]
     },
     "metadata": {},
     "output_type": "display_data"
    },
    {
     "data": {
      "application/javascript": [
       "\n",
       " (function(){\n",
       "            window.Roundtrip['test_2'] = {\n",
       "                'origin': 'INIT',\n",
       "                'two_way': false,\n",
       "                'python_var':'', \n",
       "                'type':'int', \n",
       "                'data':'4', \n",
       "                'converter':null,\n",
       "            };\n",
       "        })();\n"
      ],
      "text/plain": [
       "<IPython.core.display.Javascript object>"
      ]
     },
     "metadata": {},
     "output_type": "display_data"
    },
    {
     "data": {
      "application/javascript": [
       "\n",
       " (function(){\n",
       "            window.Roundtrip['js_df'] = {\n",
       "                'origin': 'INIT',\n",
       "                'two_way': false,\n",
       "                'python_var':'df', \n",
       "                'type':'pandas.core.frame.DataFrame', \n",
       "                'data':'{\"vals\":{\"0\":111.0,\"1\":102.0,\"2\":401.0},\"categs\":{\"0\":\"metric1\",\"1\":\"metric2\",\"2\":\"metric3\"}}', \n",
       "                'converter':{\"name\": \"_from_js\", \"code\": \"def _from_js(data):\\n    return pd.DataFrame(data)\\n\"},\n",
       "            };\n",
       "        })();\n"
      ],
      "text/plain": [
       "<IPython.core.display.Javascript object>"
      ]
     },
     "metadata": {},
     "output_type": "display_data"
    },
    {
     "data": {
      "application/javascript": [
       "(function(element){\n",
       "    require(['https://d3js.org/d3.v4.min.js'], function(d3) {\n",
       "        const Roundtrip = window.Roundtrip;\n",
       "        const elem = element[0].parentNode.parentNode;\n",
       "        const data = Roundtrip.test\n",
       "\n",
       "        const t = d3.select(elem).select('#passed1');\n",
       "        t.text(JSON.stringify(data));\n",
       "\n",
       "        d3.select(elem).select(\"#demo\").on(\"click\", function(){\n",
       "            Roundtrip.test = \"Modified in js code.\";\n",
       "            t.text(Roundtrip.test);\n",
       "        })\n",
       "\n",
       "        //it is reccomended to not work directly off the roundtrip\n",
       "        // object and instead work through a local variable\n",
       "        var df = JSON.parse(Roundtrip.js_df);\n",
       "        var pivot = [];\n",
       "\n",
       "        for (var cat in df.categs){\n",
       "            var tmp = {};\n",
       "            tmp.categ = df.categs[cat];\n",
       "            tmp.val = df.vals[cat];\n",
       "            pivot.push(tmp);\n",
       "        }\n",
       "\n",
       "\n",
       "        var df_enter = d3.select(elem).select(\"#bound1\")\n",
       "            .selectAll(\".data-elem\")\n",
       "            .data(pivot)\n",
       "            .enter();\n",
       "\n",
       "        var line = df_enter.append(\"div\")\n",
       "                .attr(\"class\", \"data-elem\")\n",
       "                .style(\"margin-bottom\", '15px');\n",
       "        line.append(\"div\")\n",
       "                .text(d=>{return d.categ + \" \"});\n",
       "        line.append(\"input\")\n",
       "                    .attr(\"type\", \"text\")\n",
       "                    .attr(\"value\", d=>d.val)\n",
       "                    .on('change', function(d, i){\n",
       "                        df.vals[i.toString()] = parseFloat(d3.select(this).property(\"value\"));\n",
       "                    });\n",
       "\n",
       "        d3.select(elem).select(\"#binding-demo\")\n",
       "                    .on(\"click\", function(){\n",
       "                        Roundtrip.js_df = JSON.stringify(df);\n",
       "                    })\n",
       "        \n",
       "    })\n",
       "})(element);"
      ],
      "text/plain": [
       "<IPython.core.display.Javascript object>"
      ]
     },
     "metadata": {},
     "output_type": "display_data"
    }
   ],
   "source": [
    "%basic df string"
   ]
  },
  {
   "cell_type": "code",
   "execution_count": 4,
   "metadata": {},
   "outputs": [
    {
     "data": {
      "text/html": [
       "<head>\n",
       "</head>\n",
       "<body>\n",
       "    <h3>Explicit Push-Pull Example</h3>\n",
       "        <div id=\"passed1\"></div>\n",
       "        <button id=\"demo\"> Click me to change data. </button>\n",
       "    <h3>Automatic Binding Example</h3>\n",
       "        <div id=\"bound1\"></div>\n",
       "        <button id=\"binding-demo\">Click me to confirm data change and show it reflected in another cell.</button>\n",
       "</body>"
      ],
      "text/plain": [
       "<IPython.core.display.HTML object>"
      ]
     },
     "metadata": {},
     "output_type": "display_data"
    },
    {
     "name": "stdout",
     "output_type": "stream",
     "text": [
      "['?df', 'string']\n"
     ]
    },
    {
     "data": {
      "application/javascript": [
       "\n",
       " (function(){\n",
       "            window.Roundtrip['test'] = {\n",
       "                'origin': 'INIT',\n",
       "                'two_way': false,\n",
       "                'python_var':'string', \n",
       "                'type':'str', \n",
       "                'data':'From Python', \n",
       "                'converter':null,\n",
       "            };\n",
       "        })();\n"
      ],
      "text/plain": [
       "<IPython.core.display.Javascript object>"
      ]
     },
     "metadata": {},
     "output_type": "display_data"
    },
    {
     "data": {
      "application/javascript": [
       "\n",
       " (function(){\n",
       "            window.Roundtrip['test_2'] = {\n",
       "                'origin': 'INIT',\n",
       "                'two_way': false,\n",
       "                'python_var':'', \n",
       "                'type':'int', \n",
       "                'data':'4', \n",
       "                'converter':null,\n",
       "            };\n",
       "        })();\n"
      ],
      "text/plain": [
       "<IPython.core.display.Javascript object>"
      ]
     },
     "metadata": {},
     "output_type": "display_data"
    },
    {
     "data": {
      "application/javascript": [
       "\n",
       " (function(){\n",
       "            window.Roundtrip['js_df'] = {\n",
       "                'origin': 'INIT',\n",
       "                'two_way': true,\n",
       "                'python_var':'df', \n",
       "                'type':'pandas.core.frame.DataFrame', \n",
       "                'data':'{\"vals\":{\"0\":111.0,\"1\":102.0,\"2\":401.0},\"categs\":{\"0\":\"metric1\",\"1\":\"metric2\",\"2\":\"metric3\"}}', \n",
       "                'converter':{\"name\": \"_from_js\", \"code\": \"def _from_js(data):\\n    return pd.DataFrame(data)\\n\"},\n",
       "            };\n",
       "        })();\n"
      ],
      "text/plain": [
       "<IPython.core.display.Javascript object>"
      ]
     },
     "metadata": {},
     "output_type": "display_data"
    },
    {
     "data": {
      "application/javascript": [
       "(function(element){\n",
       "    require(['https://d3js.org/d3.v4.min.js'], function(d3) {\n",
       "        const Roundtrip = window.Roundtrip;\n",
       "        const elem = element[0].parentNode.parentNode;\n",
       "        const data = Roundtrip.test\n",
       "\n",
       "        const t = d3.select(elem).select('#passed1');\n",
       "        t.text(JSON.stringify(data));\n",
       "\n",
       "        d3.select(elem).select(\"#demo\").on(\"click\", function(){\n",
       "            Roundtrip.test = \"Modified in js code.\";\n",
       "            t.text(Roundtrip.test);\n",
       "        })\n",
       "\n",
       "        //it is reccomended to not work directly off the roundtrip\n",
       "        // object and instead work through a local variable\n",
       "        var df = JSON.parse(Roundtrip.js_df);\n",
       "        var pivot = [];\n",
       "\n",
       "        for (var cat in df.categs){\n",
       "            var tmp = {};\n",
       "            tmp.categ = df.categs[cat];\n",
       "            tmp.val = df.vals[cat];\n",
       "            pivot.push(tmp);\n",
       "        }\n",
       "\n",
       "\n",
       "        var df_enter = d3.select(elem).select(\"#bound1\")\n",
       "            .selectAll(\".data-elem\")\n",
       "            .data(pivot)\n",
       "            .enter();\n",
       "\n",
       "        var line = df_enter.append(\"div\")\n",
       "                .attr(\"class\", \"data-elem\")\n",
       "                .style(\"margin-bottom\", '15px');\n",
       "        line.append(\"div\")\n",
       "                .text(d=>{return d.categ + \" \"});\n",
       "        line.append(\"input\")\n",
       "                    .attr(\"type\", \"text\")\n",
       "                    .attr(\"value\", d=>d.val)\n",
       "                    .on('change', function(d, i){\n",
       "                        df.vals[i.toString()] = parseFloat(d3.select(this).property(\"value\"));\n",
       "                    });\n",
       "\n",
       "        d3.select(elem).select(\"#binding-demo\")\n",
       "                    .on(\"click\", function(){\n",
       "                        Roundtrip.js_df = JSON.stringify(df);\n",
       "                    })\n",
       "        \n",
       "    })\n",
       "})(element);"
      ],
      "text/plain": [
       "<IPython.core.display.Javascript object>"
      ]
     },
     "metadata": {},
     "output_type": "display_data"
    }
   ],
   "source": [
    "%basic ?df string"
   ]
  },
  {
   "cell_type": "code",
   "execution_count": 5,
   "metadata": {},
   "outputs": [
    {
     "data": {
      "text/html": [
       "<head>\n",
       "</head>\n",
       "<body>\n",
       "    <h3>See changes from another cell reflected here.</h3>\n",
       "    <div id=\"disp\"></div>\n",
       "</body>"
      ],
      "text/plain": [
       "<IPython.core.display.HTML object>"
      ]
     },
     "metadata": {},
     "output_type": "display_data"
    },
    {
     "data": {
      "application/javascript": [
       "\n",
       " (function(){\n",
       "            window.Roundtrip['binding_df'] = {\n",
       "                'origin': 'INIT',\n",
       "                'two_way': true,\n",
       "                'python_var':'df', \n",
       "                'type':'pandas.core.frame.DataFrame', \n",
       "                'data':'{\"vals\":{\"0\":111.0,\"1\":102.0,\"2\":401.0},\"categs\":{\"0\":\"metric1\",\"1\":\"metric2\",\"2\":\"metric3\"}}', \n",
       "                'converter':{\"name\": \"_from_js\", \"code\": \"def _from_js(data):\\n    return pd.DataFrame(data)\\n\"},\n",
       "            };\n",
       "        })();\n"
      ],
      "text/plain": [
       "<IPython.core.display.Javascript object>"
      ]
     },
     "metadata": {},
     "output_type": "display_data"
    },
    {
     "data": {
      "application/javascript": [
       "(function(element){\n",
       "    require(['https://d3js.org/d3.v4.min.js'], function(d3) {\n",
       "        Roundtrip = window.Roundtrip;\n",
       "        var elem = element[0].parentNode.parentNode;\n",
       "        const svg = d3.select(elem).select('#disp')\n",
       "            .append(\"svg\")\n",
       "            .attr(\"width\", 500)\n",
       "            .attr(\"height\", 500);\n",
       "        \n",
       "        const data = JSON.parse(Roundtrip.binding_df);\n",
       "        var pivot = [];\n",
       "        var max = Number.MIN_VALUE;\n",
       "\n",
       "\n",
       "        for (var cat in data.categs){\n",
       "            var tmp = {};\n",
       "            tmp.categ = data.categs[cat];\n",
       "            tmp.val = data.vals[cat];\n",
       "            if(tmp.val > max){\n",
       "                max = tmp.val;\n",
       "            }\n",
       "            pivot.push(tmp);\n",
       "        }\n",
       "\n",
       "        var yscale = d3.scaleBand().domain(pivot.map(d=>{return d.categ})).range([425, 0]).padding(0.4);\n",
       "        var xscale = d3.scaleLinear().domain([0, max]).range([0,400]);\n",
       "\n",
       "        var x_axis = d3.axisBottom().scale(xscale);\n",
       "        var y_axis = d3.axisLeft().scale(yscale).tickFormat(d=>{return d});\n",
       "        \n",
       "        var left = 50;\n",
       "\n",
       "        svg.append(\"g\")\n",
       "            .attr(\"transform\", `translate(${left}, 440)`)\n",
       "            .call(x_axis);\n",
       "\n",
       "        svg.append(\"g\")\n",
       "            .attr(\"transform\", `translate(${left}, 15)`)\n",
       "            .call(y_axis);\n",
       "\n",
       "        svg.selectAll(\".bar\")\n",
       "            .data(pivot)\n",
       "            .enter()\n",
       "            .append(\"rect\")\n",
       "                .attr(\"class\", \"bar\")\n",
       "                .attr(\"width\", d=>xscale(d.val))\n",
       "                .attr(\"height\", 50)\n",
       "                .attr(\"fill\", \"#555599\")\n",
       "                .attr(\"x\", 15)\n",
       "                .attr(\"y\", (d,i)=>yscale(d.categ)+15)\n",
       "                .attr(\"transform\", `translate(${left-15}, 0)`);\n",
       "        \n",
       "\n",
       "    })\n",
       "})(element)"
      ],
      "text/plain": [
       "<IPython.core.display.Javascript object>"
      ]
     },
     "metadata": {},
     "output_type": "display_data"
    }
   ],
   "source": [
    "%binding_example ?df"
   ]
  },
  {
   "cell_type": "code",
   "execution_count": 6,
   "metadata": {},
   "outputs": [
    {
     "data": {
      "text/html": [
       "<head>\n",
       "</head>\n",
       "<body>\n",
       "    <h3>See changes from another cell reflected here.</h3>\n",
       "    <div id=\"disp\"></div>\n",
       "</body>"
      ],
      "text/plain": [
       "<IPython.core.display.HTML object>"
      ]
     },
     "metadata": {},
     "output_type": "display_data"
    },
    {
     "data": {
      "application/javascript": [
       "\n",
       " (function(){\n",
       "            window.Roundtrip['binding_df'] = {\n",
       "                'origin': 'INIT',\n",
       "                'two_way': false,\n",
       "                'python_var':'df', \n",
       "                'type':'pandas.core.frame.DataFrame', \n",
       "                'data':'{\"vals\":{\"0\":111.0,\"1\":102.0,\"2\":401.0},\"categs\":{\"0\":\"metric1\",\"1\":\"metric2\",\"2\":\"metric3\"}}', \n",
       "                'converter':{\"name\": \"_from_js\", \"code\": \"def _from_js(data):\\n    return pd.DataFrame(data)\\n\"},\n",
       "            };\n",
       "        })();\n"
      ],
      "text/plain": [
       "<IPython.core.display.Javascript object>"
      ]
     },
     "metadata": {},
     "output_type": "display_data"
    },
    {
     "data": {
      "application/javascript": [
       "(function(element){\n",
       "    require(['https://d3js.org/d3.v4.min.js'], function(d3) {\n",
       "        Roundtrip = window.Roundtrip;\n",
       "        var elem = element[0].parentNode.parentNode;\n",
       "        const svg = d3.select(elem).select('#disp')\n",
       "            .append(\"svg\")\n",
       "            .attr(\"width\", 500)\n",
       "            .attr(\"height\", 500);\n",
       "        \n",
       "        const data = JSON.parse(Roundtrip.binding_df);\n",
       "        var pivot = [];\n",
       "        var max = Number.MIN_VALUE;\n",
       "\n",
       "\n",
       "        for (var cat in data.categs){\n",
       "            var tmp = {};\n",
       "            tmp.categ = data.categs[cat];\n",
       "            tmp.val = data.vals[cat];\n",
       "            if(tmp.val > max){\n",
       "                max = tmp.val;\n",
       "            }\n",
       "            pivot.push(tmp);\n",
       "        }\n",
       "\n",
       "        var yscale = d3.scaleBand().domain(pivot.map(d=>{return d.categ})).range([425, 0]).padding(0.4);\n",
       "        var xscale = d3.scaleLinear().domain([0, max]).range([0,400]);\n",
       "\n",
       "        var x_axis = d3.axisBottom().scale(xscale);\n",
       "        var y_axis = d3.axisLeft().scale(yscale).tickFormat(d=>{return d});\n",
       "        \n",
       "        var left = 50;\n",
       "\n",
       "        svg.append(\"g\")\n",
       "            .attr(\"transform\", `translate(${left}, 440)`)\n",
       "            .call(x_axis);\n",
       "\n",
       "        svg.append(\"g\")\n",
       "            .attr(\"transform\", `translate(${left}, 15)`)\n",
       "            .call(y_axis);\n",
       "\n",
       "        svg.selectAll(\".bar\")\n",
       "            .data(pivot)\n",
       "            .enter()\n",
       "            .append(\"rect\")\n",
       "                .attr(\"class\", \"bar\")\n",
       "                .attr(\"width\", d=>xscale(d.val))\n",
       "                .attr(\"height\", 50)\n",
       "                .attr(\"fill\", \"#555599\")\n",
       "                .attr(\"x\", 15)\n",
       "                .attr(\"y\", (d,i)=>yscale(d.categ)+15)\n",
       "                .attr(\"transform\", `translate(${left-15}, 0)`);\n",
       "        \n",
       "\n",
       "    })\n",
       "})(element)"
      ],
      "text/plain": [
       "<IPython.core.display.Javascript object>"
      ]
     },
     "metadata": {},
     "output_type": "display_data"
    }
   ],
   "source": [
    "%binding_example df"
   ]
  },
  {
   "cell_type": "code",
   "execution_count": null,
   "metadata": {},
   "outputs": [],
   "source": [
    "df"
   ]
  },
  {
   "cell_type": "code",
   "execution_count": null,
   "metadata": {},
   "outputs": [],
   "source": [
    "%fetch_basic x"
   ]
  },
  {
   "cell_type": "code",
   "execution_count": null,
   "metadata": {},
   "outputs": [],
   "source": [
    "print(x)"
   ]
  },
  {
   "cell_type": "code",
   "execution_count": null,
   "metadata": {},
   "outputs": [],
   "source": [
    "%bargraph"
   ]
  },
  {
   "cell_type": "code",
   "execution_count": 6,
   "metadata": {},
   "outputs": [
    {
     "data": {
      "text/html": [
       "<head>\n",
       "</head>\n",
       "<body>\n",
       "    <h3>Explicit Push-Pull Example</h3>\n",
       "        <div id=\"passed1\"></div>\n",
       "        <button id=\"demo\"> Click me to change data. </button>\n",
       "    <h3>Automatic Binding Example</h3>\n",
       "        <div id=\"bound1\"></div>\n",
       "        <button id=\"binding-demo\">Click me to confirm data change and show it reflected in another cell.</button>\n",
       "</body>"
      ],
      "text/plain": [
       "<IPython.core.display.HTML object>"
      ]
     },
     "metadata": {},
     "output_type": "display_data"
    },
    {
     "name": "stdout",
     "output_type": "stream",
     "text": [
      "['?df', 'string']\n"
     ]
    },
    {
     "data": {
      "application/javascript": [
       "\n",
       " (function(){\n",
       "            let id;\n",
       "            let cells = Jupyter.notebook.get_cell_elements();\n",
       "            for(let key in Object.keys(cells)){\n",
       "                if(cells[key] !== undefined && !cells[key].className.includes('unselected')){\n",
       "                    id = key-1;\n",
       "                }\n",
       "            }\n",
       "\n",
       "            window.Roundtrip['test'] = {\n",
       "                'origin': 'INIT',\n",
       "                'id': id,\n",
       "                'two_way': false,\n",
       "                'python_var':'string', \n",
       "                'type':'str', \n",
       "                'data':'From Python', \n",
       "                'converter':null,\n",
       "            }; \n",
       "        })();\n"
      ],
      "text/plain": [
       "<IPython.core.display.Javascript object>"
      ]
     },
     "metadata": {},
     "output_type": "display_data"
    },
    {
     "data": {
      "application/javascript": [
       "\n",
       " (function(){\n",
       "            let id;\n",
       "            let cells = Jupyter.notebook.get_cell_elements();\n",
       "            for(let key in Object.keys(cells)){\n",
       "                if(cells[key] !== undefined && !cells[key].className.includes('unselected')){\n",
       "                    id = key-1;\n",
       "                }\n",
       "            }\n",
       "\n",
       "            window.Roundtrip['test_2'] = {\n",
       "                'origin': 'INIT',\n",
       "                'id': id,\n",
       "                'two_way': false,\n",
       "                'python_var':'', \n",
       "                'type':'int', \n",
       "                'data':'4', \n",
       "                'converter':null,\n",
       "            }; \n",
       "        })();\n"
      ],
      "text/plain": [
       "<IPython.core.display.Javascript object>"
      ]
     },
     "metadata": {},
     "output_type": "display_data"
    },
    {
     "data": {
      "application/javascript": [
       "\n",
       " (function(){\n",
       "            let id;\n",
       "            let cells = Jupyter.notebook.get_cell_elements();\n",
       "            for(let key in Object.keys(cells)){\n",
       "                if(cells[key] !== undefined && !cells[key].className.includes('unselected')){\n",
       "                    id = key-1;\n",
       "                }\n",
       "            }\n",
       "\n",
       "            window.Roundtrip['js_df'] = {\n",
       "                'origin': 'INIT',\n",
       "                'id': id,\n",
       "                'two_way': true,\n",
       "                'python_var':'df', \n",
       "                'type':'pandas.core.frame.DataFrame', \n",
       "                'data':'{\"vals\":{\"0\":111.0,\"1\":102.0,\"2\":401.0},\"categs\":{\"0\":\"metric1\",\"1\":\"metric2\",\"2\":\"metric3\"}}', \n",
       "                'converter':{\"name\": \"_from_js\", \"code\": \"def _from_js(data):\\n    return pd.DataFrame(data)\\n\"},\n",
       "            }; \n",
       "        })();\n"
      ],
      "text/plain": [
       "<IPython.core.display.Javascript object>"
      ]
     },
     "metadata": {},
     "output_type": "display_data"
    },
    {
     "data": {
      "application/javascript": [
       "(function(element){\n",
       "    require(['https://d3js.org/d3.v4.min.js'], function(d3) {\n",
       "        const Roundtrip = window.Roundtrip;\n",
       "        const elem = element[0].parentNode.parentNode;\n",
       "        const data = Roundtrip.test\n",
       "\n",
       "        const t = d3.select(elem).select('#passed1');\n",
       "        t.text(JSON.stringify(data));\n",
       "\n",
       "        d3.select(elem).select(\"#demo\").on(\"click\", function(){\n",
       "            Roundtrip.test = \"Modified in js code.\";\n",
       "            t.text(Roundtrip.test);\n",
       "        })\n",
       "\n",
       "        //it is reccomended to not work directly off the roundtrip\n",
       "        // object and instead work through a local variable\n",
       "        var df = JSON.parse(Roundtrip.js_df);\n",
       "        var pivot = [];\n",
       "\n",
       "        for (var cat in df.categs){\n",
       "            var tmp = {};\n",
       "            tmp.categ = df.categs[cat];\n",
       "            tmp.val = df.vals[cat];\n",
       "            pivot.push(tmp);\n",
       "        }\n",
       "\n",
       "\n",
       "        var df_enter = d3.select(elem).select(\"#bound1\")\n",
       "            .selectAll(\".data-elem\")\n",
       "            .data(pivot)\n",
       "            .enter();\n",
       "\n",
       "        var line = df_enter.append(\"div\")\n",
       "                .attr(\"class\", \"data-elem\")\n",
       "                .style(\"margin-bottom\", '15px');\n",
       "        line.append(\"div\")\n",
       "                .text(d=>{return d.categ + \" \"});\n",
       "        line.append(\"input\")\n",
       "                    .attr(\"type\", \"text\")\n",
       "                    .attr(\"value\", d=>d.val)\n",
       "                    .on('change', function(d, i){\n",
       "                        df.vals[i.toString()] = parseFloat(d3.select(this).property(\"value\"));\n",
       "                    });\n",
       "\n",
       "        d3.select(elem).select(\"#binding-demo\")\n",
       "                    .on(\"click\", function(){\n",
       "                        console.log(JSON.stringify(df));\n",
       "                        Roundtrip.js_df = JSON.stringify(df);\n",
       "                    })\n",
       "        \n",
       "    })\n",
       "})(element);"
      ],
      "text/plain": [
       "<IPython.core.display.Javascript object>"
      ]
     },
     "metadata": {},
     "output_type": "display_data"
    }
   ],
   "source": [
    "%basic ?df string"
   ]
  },
  {
   "cell_type": "code",
   "execution_count": null,
   "metadata": {},
   "outputs": [],
   "source": [
    "# %basic df mode=lock updates= automatic updates=manual"
   ]
  },
  {
   "cell_type": "code",
   "execution_count": null,
   "metadata": {},
   "outputs": [],
   "source": [
    "# %fetch_basic x"
   ]
  },
  {
   "cell_type": "code",
   "execution_count": null,
   "metadata": {},
   "outputs": [],
   "source": [
    "# print(x)"
   ]
  },
  {
   "cell_type": "code",
   "execution_count": null,
   "metadata": {},
   "outputs": [],
   "source": [
    "# %watch-scatterplot-selection select \n",
    "# %watch-scatteplot-x"
   ]
  },
  {
   "cell_type": "code",
   "execution_count": 170,
   "metadata": {},
   "outputs": [],
   "source": [
    "# mode=lock updates= automatic updates=manual"
   ]
  }
 ],
 "metadata": {
  "kernelspec": {
   "display_name": "Python 3",
   "language": "python",
   "name": "python3"
  },
  "language_info": {
   "codemirror_mode": {
    "name": "ipython",
    "version": 3
   },
   "file_extension": ".py",
   "mimetype": "text/x-python",
   "name": "python",
   "nbconvert_exporter": "python",
   "pygments_lexer": "ipython3",
   "version": "3.8.10"
  }
 },
 "nbformat": 4,
 "nbformat_minor": 4
}
