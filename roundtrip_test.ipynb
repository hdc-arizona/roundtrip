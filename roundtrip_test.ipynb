{
 "cells": [
  {
   "cell_type": "code",
   "execution_count": 1,
   "metadata": {},
   "outputs": [
    {
     "data": {
      "text/html": [
       "<script src='roundtrip.js'></script>"
      ],
      "text/plain": [
       "<IPython.core.display.HTML object>"
      ]
     },
     "metadata": {},
     "output_type": "display_data"
    },
    {
     "data": {
      "text/html": [
       "<script src='roundtrip.js'></script>"
      ],
      "text/plain": [
       "<IPython.core.display.HTML object>"
      ]
     },
     "metadata": {},
     "output_type": "display_data"
    },
    {
     "data": {
      "text/html": [
       "<script src='roundtrip.js'></script>"
      ],
      "text/plain": [
       "<IPython.core.display.HTML object>"
      ]
     },
     "metadata": {},
     "output_type": "display_data"
    }
   ],
   "source": [
    "import pandas as pd\n",
    "%load_ext examples"
   ]
  },
  {
   "cell_type": "code",
   "execution_count": 2,
   "metadata": {},
   "outputs": [
    {
     "name": "stdout",
     "output_type": "stream",
     "text": [
      "YEEEEET\n"
     ]
    }
   ],
   "source": [
    "print(\"YEEEEET\")"
   ]
  },
  {
   "cell_type": "code",
   "execution_count": 3,
   "metadata": {},
   "outputs": [],
   "source": [
    "df = pd.DataFrame({\n",
    "        'vals':[1.0, 2.4, 3.1],\n",
    "        'categs':['metric1', 'metric2', 'metric3']\n",
    "})"
   ]
  },
  {
   "cell_type": "markdown",
   "metadata": {},
   "source": [
    "This following code would be provided by the roundtrip library"
   ]
  },
  {
   "cell_type": "markdown",
   "metadata": {},
   "source": [
    "This code would be implementation specific eg. hatchet's cct.\n",
    "Should this use a wrapper to automatically watch the passed in data?"
   ]
  },
  {
   "cell_type": "code",
   "execution_count": 4,
   "metadata": {
    "scrolled": false
   },
   "outputs": [
    {
     "data": {
      "text/html": [
       "<head>\n",
       "</head>\n",
       "<body>\n",
       "    <h3>Explicit Push-Pull Example</h3>\n",
       "        <div id=\"passed1\"></div>\n",
       "        <button id=\"demo\"> Click me to change data. </button>\n",
       "    <h3>Automatic Binding Example</h3>\n",
       "        <div id=\"bound1\"></div>\n",
       "        <button id=\"binding-demo\">Click me to confirm data change and show it reflected in another cell.</button>\n",
       "</body>"
      ],
      "text/plain": [
       "<IPython.core.display.HTML object>"
      ]
     },
     "metadata": {},
     "output_type": "display_data"
    },
    {
     "data": {
      "application/javascript": [
       "\n",
       " (function(){ Roundtrip['test'] = { 'two_way':'false', 'python_var':'', 'type':'str', 'data':'from python code'} })();\n"
      ],
      "text/plain": [
       "<IPython.core.display.Javascript object>"
      ]
     },
     "metadata": {},
     "output_type": "display_data"
    },
    {
     "data": {
      "application/javascript": [
       "\n",
       " (function(){ Roundtrip['test2'] = { 'two_way':'false', 'python_var':'', 'type':'int', 'data':'4'} })();\n"
      ],
      "text/plain": [
       "<IPython.core.display.Javascript object>"
      ]
     },
     "metadata": {},
     "output_type": "display_data"
    },
    {
     "data": {
      "application/javascript": [
       "\n",
       " (function(){ Roundtrip['js_df'] = { 'two_way':'true', 'python_var':'df', 'type':'pandas.core.frame.DataFrame', 'data':'{\"vals\":{\"0\":1.0,\"1\":2.4,\"2\":3.1},\"categs\":{\"0\":\"metric1\",\"1\":\"metric2\",\"2\":\"metric3\"}}'} })();\n"
      ],
      "text/plain": [
       "<IPython.core.display.Javascript object>"
      ]
     },
     "metadata": {},
     "output_type": "display_data"
    },
    {
     "data": {
      "application/javascript": [
       "(function(element){\n",
       "    require(['https://d3js.org/d3.v4.min.js'], function(d3) {\n",
       "\n",
       "        const elem = element[0].parentNode.parentNode;\n",
       "        const data = Roundtrip.test\n",
       "\n",
       "        const t = d3.select(elem).select('#passed1');\n",
       "        t.text(JSON.stringify(data));\n",
       "\n",
       "        d3.select(elem).select(\"#demo\").on(\"click\", function(){\n",
       "            Roundtrip.test = \"Modified in js code.\";\n",
       "            t.text(Roundtrip.test);\n",
       "        })\n",
       "\n",
       "        //it is reccomended to not work directly off the roundtrip\n",
       "        // object and instead work through a local variable\n",
       "        var df = JSON.parse(Roundtrip.js_df);\n",
       "        var pivot = [];\n",
       "\n",
       "        for (var cat in df.categs){\n",
       "            var tmp = {};\n",
       "            tmp.categ = df.categs[cat];\n",
       "            tmp.val = df.vals[cat];\n",
       "            pivot.push(tmp);\n",
       "        }\n",
       "\n",
       "        console.log(pivot);\n",
       "\n",
       "        var df_enter = d3.select(elem).select(\"#bound1\")\n",
       "            .selectAll(\".data-elem\")\n",
       "            .data(pivot)\n",
       "            .enter();\n",
       "\n",
       "        var line = df_enter.append(\"div\")\n",
       "                .attr(\"class\", \"data-elem\")\n",
       "                .style(\"margin-bottom\", '15px');\n",
       "        line.append(\"div\")\n",
       "                .text(d=>{return d.categ + \" \"});\n",
       "        line.append(\"input\")\n",
       "                    .attr(\"type\", \"text\")\n",
       "                    .attr(\"value\", d=>d.val)\n",
       "                    .on('change', function(d, i){\n",
       "                        df.vals[i.toString()] = parseFloat(d3.select(this).property(\"value\"));\n",
       "                    });\n",
       "\n",
       "        d3.select(elem).select(\"#binding-demo\")\n",
       "                    .on(\"click\", function(){\n",
       "                        console.log(JSON.stringify(df));\n",
       "                        Roundtrip.js_df = JSON.stringify(df);\n",
       "                    })\n",
       "        \n",
       "    })\n",
       "})(element);"
      ],
      "text/plain": [
       "<IPython.core.display.Javascript object>"
      ]
     },
     "metadata": {},
     "output_type": "display_data"
    }
   ],
   "source": [
    "%basic df mode=lock updates= automatic updates=manual"
   ]
  },
  {
   "cell_type": "code",
   "execution_count": 5,
   "metadata": {},
   "outputs": [
    {
     "data": {
      "text/html": [
       "<head>\n",
       "</head>\n",
       "<body>\n",
       "    <h3>See changes from another cell reflected here.</h3>\n",
       "    <div id=\"disp\"></div>\n",
       "</body>"
      ],
      "text/plain": [
       "<IPython.core.display.HTML object>"
      ]
     },
     "metadata": {},
     "output_type": "display_data"
    },
    {
     "data": {
      "application/javascript": [
       "\n",
       " (function(){ Roundtrip['binding_df'] = { 'two_way':'true', 'python_var':'df', 'type':'pandas.core.frame.DataFrame', 'data':'{\"vals\":{\"0\":1.0,\"1\":2.4,\"2\":3.1},\"categs\":{\"0\":\"metric1\",\"1\":\"metric2\",\"2\":\"metric3\"}}'} })();\n"
      ],
      "text/plain": [
       "<IPython.core.display.Javascript object>"
      ]
     },
     "metadata": {},
     "output_type": "display_data"
    },
    {
     "data": {
      "application/javascript": [
       "(function(element){\n",
       "    require(['https://d3js.org/d3.v4.min.js'], function(d3) {\n",
       "        var elem = element[0].parentNode.parentNode;\n",
       "        const svg = d3.select(elem).select('#disp')\n",
       "            .append(\"svg\")\n",
       "            .attr(\"width\", 500)\n",
       "            .attr(\"height\", 500);\n",
       "        \n",
       "        const data = JSON.parse(Roundtrip.binding_df);\n",
       "        var pivot = [];\n",
       "        var max = Number.MIN_VALUE;\n",
       "\n",
       "\n",
       "        for (var cat in data.categs){\n",
       "            var tmp = {};\n",
       "            tmp.categ = data.categs[cat];\n",
       "            tmp.val = data.vals[cat];\n",
       "            if(tmp.val > max){\n",
       "                max = tmp.val;\n",
       "            }\n",
       "            pivot.push(tmp);\n",
       "        }\n",
       "        console.log(data, pivot);\n",
       "\n",
       "        var yscale = d3.scaleLinear().domain([0, 3]).range([0,480]);\n",
       "        var xscale = d3.scaleLinear().domain([0, max]).range([0,480]);\n",
       "\n",
       "        var x_axis = d3.axisBottom().scale(xscale);\n",
       "        var y_axis = d3.axisLeft().scale(yscale);\n",
       "\n",
       "        svg.append(\"g\")\n",
       "            .attr(\"transform\", \"translate(15, 440)\")\n",
       "            .call(x_axis);\n",
       "\n",
       "        svg.append(\"g\")\n",
       "            .attr(\"transform\", \"translate(15, 15)\")\n",
       "            .call(y_axis);\n",
       "\n",
       "        svg.selectAll(\".bar\")\n",
       "            .data(pivot)\n",
       "            .enter()\n",
       "            .append(\"rect\")\n",
       "                .attr(\"class\", \"bar\")\n",
       "                .attr(\"width\", d=>xscale(d.val))\n",
       "                .attr(\"height\", 50)\n",
       "                .attr(\"fill\", \"#555599\")\n",
       "                .attr(\"x\", 15)\n",
       "                .attr(\"y\", (d,i)=>yscale(i)+15);\n",
       "        \n",
       "\n",
       "    })\n",
       "})(element)"
      ],
      "text/plain": [
       "<IPython.core.display.Javascript object>"
      ]
     },
     "metadata": {},
     "output_type": "display_data"
    }
   ],
   "source": [
    "%binding_example df"
   ]
  },
  {
   "cell_type": "code",
   "execution_count": 12,
   "metadata": {
    "scrolled": false
   },
   "outputs": [
    {
     "data": {
      "text/html": [
       "<head>\n",
       "</head>\n",
       "<body>\n",
       "    <h3>Explicit Push-Pull Example</h3>\n",
       "        <div id=\"passed1\"></div>\n",
       "        <button id=\"demo\"> Click me to change data. </button>\n",
       "    <h3>Automatic Binding Example</h3>\n",
       "        <div id=\"bound1\"></div>\n",
       "        <button id=\"binding-demo\">Click me to confirm data change and show it reflected in another cell.</button>\n",
       "</body>"
      ],
      "text/plain": [
       "<IPython.core.display.HTML object>"
      ]
     },
     "metadata": {},
     "output_type": "display_data"
    },
    {
     "data": {
      "application/javascript": [
       "\n",
       " (function(){ Roundtrip['test'] = { 'two_way':'false', 'python_var':'', 'type':'str', 'data':'from python code'} })();\n"
      ],
      "text/plain": [
       "<IPython.core.display.Javascript object>"
      ]
     },
     "metadata": {},
     "output_type": "display_data"
    },
    {
     "data": {
      "application/javascript": [
       "\n",
       " (function(){ Roundtrip['test2'] = { 'two_way':'false', 'python_var':'', 'type':'int', 'data':'4'} })();\n"
      ],
      "text/plain": [
       "<IPython.core.display.Javascript object>"
      ]
     },
     "metadata": {},
     "output_type": "display_data"
    },
    {
     "data": {
      "application/javascript": [
       "\n",
       " (function(){ Roundtrip['js_df'] = { 'two_way':'true', 'python_var':'df', 'type':'pandas.core.frame.DataFrame', 'data':'{\"vals\":{\"0\":1.0,\"1\":2.4,\"2\":3.1},\"categs\":{\"0\":\"metric1\",\"1\":\"metric2\",\"2\":\"metric3\"}}'} })();\n"
      ],
      "text/plain": [
       "<IPython.core.display.Javascript object>"
      ]
     },
     "metadata": {},
     "output_type": "display_data"
    },
    {
     "data": {
      "application/javascript": [
       "(function(element){\n",
       "    require(['https://d3js.org/d3.v4.min.js'], function(d3) {\n",
       "\n",
       "        const elem = element[0].parentNode.parentNode;\n",
       "        const data = Roundtrip.test\n",
       "\n",
       "        const t = d3.select(elem).select('#passed1');\n",
       "        t.text(JSON.stringify(data));\n",
       "\n",
       "        d3.select(elem).select(\"#demo\").on(\"click\", function(){\n",
       "            Roundtrip.test = \"Modified in js code.\";\n",
       "            t.text(Roundtrip.test);\n",
       "        })\n",
       "\n",
       "        //it is reccomended to not work directly off the roundtrip\n",
       "        // object and instead work through a local variable\n",
       "        var df = JSON.parse(Roundtrip.js_df);\n",
       "        var pivot = [];\n",
       "\n",
       "        for (var cat in df.categs){\n",
       "            var tmp = {};\n",
       "            tmp.categ = df.categs[cat];\n",
       "            tmp.val = df.vals[cat];\n",
       "            pivot.push(tmp);\n",
       "        }\n",
       "\n",
       "        console.log(pivot);\n",
       "\n",
       "        var df_enter = d3.select(elem).select(\"#bound1\")\n",
       "            .selectAll(\".data-elem\")\n",
       "            .data(pivot)\n",
       "            .enter();\n",
       "\n",
       "        var line = df_enter.append(\"div\")\n",
       "                .attr(\"class\", \"data-elem\")\n",
       "                .style(\"margin-bottom\", '15px');\n",
       "        line.append(\"div\")\n",
       "                .text(d=>{return d.categ + \" \"});\n",
       "        line.append(\"input\")\n",
       "                    .attr(\"type\", \"text\")\n",
       "                    .attr(\"value\", d=>d.val)\n",
       "                    .on('change', function(d, i){\n",
       "                        df.vals[i.toString()] = parseFloat(d3.select(this).property(\"value\"));\n",
       "                    });\n",
       "\n",
       "        d3.select(elem).select(\"#binding-demo\")\n",
       "                    .on(\"click\", function(){\n",
       "                        console.log(JSON.stringify(df));\n",
       "                        Roundtrip.js_df = JSON.stringify(df);\n",
       "                    })\n",
       "        \n",
       "    })\n",
       "})(element);"
      ],
      "text/plain": [
       "<IPython.core.display.Javascript object>"
      ]
     },
     "metadata": {},
     "output_type": "display_data"
    }
   ],
   "source": [
    "%basic df mode=lock updates= automatic updates=manual"
   ]
  },
  {
   "cell_type": "code",
   "execution_count": null,
   "metadata": {},
   "outputs": [],
   "source": [
    "%fetch_basic x"
   ]
  },
  {
   "cell_type": "code",
   "execution_count": null,
   "metadata": {},
   "outputs": [],
   "source": [
    "print(x)"
   ]
  },
  {
   "cell_type": "code",
   "execution_count": null,
   "metadata": {},
   "outputs": [],
   "source": [
    "%bargraph"
   ]
  },
  {
   "cell_type": "code",
   "execution_count": null,
   "metadata": {},
   "outputs": [],
   "source": [
    "# %basic df mode=lock updates= automatic updates=manual"
   ]
  },
  {
   "cell_type": "code",
   "execution_count": null,
   "metadata": {},
   "outputs": [],
   "source": [
    "%fetch_basic x"
   ]
  },
  {
   "cell_type": "code",
   "execution_count": null,
   "metadata": {},
   "outputs": [],
   "source": [
    "print(x)"
   ]
  },
  {
   "cell_type": "code",
   "execution_count": null,
   "metadata": {},
   "outputs": [],
   "source": [
    "%watch-scatterplot-selection select #this is a hatchet function\n",
    "%watch-scatteplot-x"
   ]
  },
  {
   "cell_type": "code",
   "execution_count": null,
   "metadata": {},
   "outputs": [],
   "source": []
  }
 ],
 "metadata": {
  "kernelspec": {
   "display_name": "Python 3",
   "language": "python",
   "name": "python3"
  },
  "language_info": {
   "codemirror_mode": {
    "name": "ipython",
    "version": 3
   },
   "file_extension": ".py",
   "mimetype": "text/x-python",
   "name": "python",
   "nbconvert_exporter": "python",
   "pygments_lexer": "ipython3",
   "version": "3.8.10"
  }
 },
 "nbformat": 4,
 "nbformat_minor": 4
}
