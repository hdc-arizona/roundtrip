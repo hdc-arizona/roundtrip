{
 "cells": [
  {
   "cell_type": "markdown",
   "metadata": {},
   "source": [
    "The javascript portion of the roundtrip library is loaded into the global scope when the 'examples' extension starts."
   ]
  },
  {
   "cell_type": "code",
   "execution_count": 1,
   "metadata": {},
   "outputs": [
    {
     "ename": "ModuleNotFoundError",
     "evalue": "No module named 'examples'",
     "output_type": "error",
     "traceback": [
      "\u001b[0;31m---------------------------------------------------------------------------\u001b[0m",
      "\u001b[0;31mModuleNotFoundError\u001b[0m                       Traceback (most recent call last)",
      "\u001b[0;32m/tmp/ipykernel_33302/1878280839.py\u001b[0m in \u001b[0;36m<module>\u001b[0;34m\u001b[0m\n\u001b[1;32m      1\u001b[0m \u001b[0;32mimport\u001b[0m \u001b[0mpandas\u001b[0m \u001b[0;32mas\u001b[0m \u001b[0mpd\u001b[0m\u001b[0;34m\u001b[0m\u001b[0;34m\u001b[0m\u001b[0m\n\u001b[0;32m----> 2\u001b[0;31m \u001b[0mget_ipython\u001b[0m\u001b[0;34m(\u001b[0m\u001b[0;34m)\u001b[0m\u001b[0;34m.\u001b[0m\u001b[0mrun_line_magic\u001b[0m\u001b[0;34m(\u001b[0m\u001b[0;34m'load_ext'\u001b[0m\u001b[0;34m,\u001b[0m \u001b[0;34m'examples'\u001b[0m\u001b[0;34m)\u001b[0m\u001b[0;34m\u001b[0m\u001b[0;34m\u001b[0m\u001b[0m\n\u001b[0m",
      "\u001b[0;32m~/Programming/Projects/hatchet_env/lib/python3.8/site-packages/IPython/core/interactiveshell.py\u001b[0m in \u001b[0;36mrun_line_magic\u001b[0;34m(self, magic_name, line, _stack_depth)\u001b[0m\n\u001b[1;32m   2346\u001b[0m                 \u001b[0mkwargs\u001b[0m\u001b[0;34m[\u001b[0m\u001b[0;34m'local_ns'\u001b[0m\u001b[0;34m]\u001b[0m \u001b[0;34m=\u001b[0m \u001b[0mself\u001b[0m\u001b[0;34m.\u001b[0m\u001b[0mget_local_scope\u001b[0m\u001b[0;34m(\u001b[0m\u001b[0mstack_depth\u001b[0m\u001b[0;34m)\u001b[0m\u001b[0;34m\u001b[0m\u001b[0;34m\u001b[0m\u001b[0m\n\u001b[1;32m   2347\u001b[0m             \u001b[0;32mwith\u001b[0m \u001b[0mself\u001b[0m\u001b[0;34m.\u001b[0m\u001b[0mbuiltin_trap\u001b[0m\u001b[0;34m:\u001b[0m\u001b[0;34m\u001b[0m\u001b[0;34m\u001b[0m\u001b[0m\n\u001b[0;32m-> 2348\u001b[0;31m                 \u001b[0mresult\u001b[0m \u001b[0;34m=\u001b[0m \u001b[0mfn\u001b[0m\u001b[0;34m(\u001b[0m\u001b[0;34m*\u001b[0m\u001b[0margs\u001b[0m\u001b[0;34m,\u001b[0m \u001b[0;34m**\u001b[0m\u001b[0mkwargs\u001b[0m\u001b[0;34m)\u001b[0m\u001b[0;34m\u001b[0m\u001b[0;34m\u001b[0m\u001b[0m\n\u001b[0m\u001b[1;32m   2349\u001b[0m             \u001b[0;32mreturn\u001b[0m \u001b[0mresult\u001b[0m\u001b[0;34m\u001b[0m\u001b[0;34m\u001b[0m\u001b[0m\n\u001b[1;32m   2350\u001b[0m \u001b[0;34m\u001b[0m\u001b[0m\n",
      "\u001b[0;32m~/Programming/Projects/hatchet_env/lib/python3.8/site-packages/decorator.py\u001b[0m in \u001b[0;36mfun\u001b[0;34m(*args, **kw)\u001b[0m\n\u001b[1;32m    230\u001b[0m             \u001b[0;32mif\u001b[0m \u001b[0;32mnot\u001b[0m \u001b[0mkwsyntax\u001b[0m\u001b[0;34m:\u001b[0m\u001b[0;34m\u001b[0m\u001b[0;34m\u001b[0m\u001b[0m\n\u001b[1;32m    231\u001b[0m                 \u001b[0margs\u001b[0m\u001b[0;34m,\u001b[0m \u001b[0mkw\u001b[0m \u001b[0;34m=\u001b[0m \u001b[0mfix\u001b[0m\u001b[0;34m(\u001b[0m\u001b[0margs\u001b[0m\u001b[0;34m,\u001b[0m \u001b[0mkw\u001b[0m\u001b[0;34m,\u001b[0m \u001b[0msig\u001b[0m\u001b[0;34m)\u001b[0m\u001b[0;34m\u001b[0m\u001b[0;34m\u001b[0m\u001b[0m\n\u001b[0;32m--> 232\u001b[0;31m             \u001b[0;32mreturn\u001b[0m \u001b[0mcaller\u001b[0m\u001b[0;34m(\u001b[0m\u001b[0mfunc\u001b[0m\u001b[0;34m,\u001b[0m \u001b[0;34m*\u001b[0m\u001b[0;34m(\u001b[0m\u001b[0mextras\u001b[0m \u001b[0;34m+\u001b[0m \u001b[0margs\u001b[0m\u001b[0;34m)\u001b[0m\u001b[0;34m,\u001b[0m \u001b[0;34m**\u001b[0m\u001b[0mkw\u001b[0m\u001b[0;34m)\u001b[0m\u001b[0;34m\u001b[0m\u001b[0;34m\u001b[0m\u001b[0m\n\u001b[0m\u001b[1;32m    233\u001b[0m     \u001b[0mfun\u001b[0m\u001b[0;34m.\u001b[0m\u001b[0m__name__\u001b[0m \u001b[0;34m=\u001b[0m \u001b[0mfunc\u001b[0m\u001b[0;34m.\u001b[0m\u001b[0m__name__\u001b[0m\u001b[0;34m\u001b[0m\u001b[0;34m\u001b[0m\u001b[0m\n\u001b[1;32m    234\u001b[0m     \u001b[0mfun\u001b[0m\u001b[0;34m.\u001b[0m\u001b[0m__doc__\u001b[0m \u001b[0;34m=\u001b[0m \u001b[0mfunc\u001b[0m\u001b[0;34m.\u001b[0m\u001b[0m__doc__\u001b[0m\u001b[0;34m\u001b[0m\u001b[0;34m\u001b[0m\u001b[0m\n",
      "\u001b[0;32m~/Programming/Projects/hatchet_env/lib/python3.8/site-packages/IPython/core/magic.py\u001b[0m in \u001b[0;36m<lambda>\u001b[0;34m(f, *a, **k)\u001b[0m\n\u001b[1;32m    185\u001b[0m     \u001b[0;31m# but it's overkill for just that one bit of state.\u001b[0m\u001b[0;34m\u001b[0m\u001b[0;34m\u001b[0m\u001b[0;34m\u001b[0m\u001b[0m\n\u001b[1;32m    186\u001b[0m     \u001b[0;32mdef\u001b[0m \u001b[0mmagic_deco\u001b[0m\u001b[0;34m(\u001b[0m\u001b[0marg\u001b[0m\u001b[0;34m)\u001b[0m\u001b[0;34m:\u001b[0m\u001b[0;34m\u001b[0m\u001b[0;34m\u001b[0m\u001b[0m\n\u001b[0;32m--> 187\u001b[0;31m         \u001b[0mcall\u001b[0m \u001b[0;34m=\u001b[0m \u001b[0;32mlambda\u001b[0m \u001b[0mf\u001b[0m\u001b[0;34m,\u001b[0m \u001b[0;34m*\u001b[0m\u001b[0ma\u001b[0m\u001b[0;34m,\u001b[0m \u001b[0;34m**\u001b[0m\u001b[0mk\u001b[0m\u001b[0;34m:\u001b[0m \u001b[0mf\u001b[0m\u001b[0;34m(\u001b[0m\u001b[0;34m*\u001b[0m\u001b[0ma\u001b[0m\u001b[0;34m,\u001b[0m \u001b[0;34m**\u001b[0m\u001b[0mk\u001b[0m\u001b[0;34m)\u001b[0m\u001b[0;34m\u001b[0m\u001b[0;34m\u001b[0m\u001b[0m\n\u001b[0m\u001b[1;32m    188\u001b[0m \u001b[0;34m\u001b[0m\u001b[0m\n\u001b[1;32m    189\u001b[0m         \u001b[0;32mif\u001b[0m \u001b[0mcallable\u001b[0m\u001b[0;34m(\u001b[0m\u001b[0marg\u001b[0m\u001b[0;34m)\u001b[0m\u001b[0;34m:\u001b[0m\u001b[0;34m\u001b[0m\u001b[0;34m\u001b[0m\u001b[0m\n",
      "\u001b[0;32m~/Programming/Projects/hatchet_env/lib/python3.8/site-packages/IPython/core/magics/extension.py\u001b[0m in \u001b[0;36mload_ext\u001b[0;34m(self, module_str)\u001b[0m\n\u001b[1;32m     31\u001b[0m         \u001b[0;32mif\u001b[0m \u001b[0;32mnot\u001b[0m \u001b[0mmodule_str\u001b[0m\u001b[0;34m:\u001b[0m\u001b[0;34m\u001b[0m\u001b[0;34m\u001b[0m\u001b[0m\n\u001b[1;32m     32\u001b[0m             \u001b[0;32mraise\u001b[0m \u001b[0mUsageError\u001b[0m\u001b[0;34m(\u001b[0m\u001b[0;34m'Missing module name.'\u001b[0m\u001b[0;34m)\u001b[0m\u001b[0;34m\u001b[0m\u001b[0;34m\u001b[0m\u001b[0m\n\u001b[0;32m---> 33\u001b[0;31m         \u001b[0mres\u001b[0m \u001b[0;34m=\u001b[0m \u001b[0mself\u001b[0m\u001b[0;34m.\u001b[0m\u001b[0mshell\u001b[0m\u001b[0;34m.\u001b[0m\u001b[0mextension_manager\u001b[0m\u001b[0;34m.\u001b[0m\u001b[0mload_extension\u001b[0m\u001b[0;34m(\u001b[0m\u001b[0mmodule_str\u001b[0m\u001b[0;34m)\u001b[0m\u001b[0;34m\u001b[0m\u001b[0;34m\u001b[0m\u001b[0m\n\u001b[0m\u001b[1;32m     34\u001b[0m \u001b[0;34m\u001b[0m\u001b[0m\n\u001b[1;32m     35\u001b[0m         \u001b[0;32mif\u001b[0m \u001b[0mres\u001b[0m \u001b[0;34m==\u001b[0m \u001b[0;34m'already loaded'\u001b[0m\u001b[0;34m:\u001b[0m\u001b[0;34m\u001b[0m\u001b[0;34m\u001b[0m\u001b[0m\n",
      "\u001b[0;32m~/Programming/Projects/hatchet_env/lib/python3.8/site-packages/IPython/core/extensions.py\u001b[0m in \u001b[0;36mload_extension\u001b[0;34m(self, module_str)\u001b[0m\n\u001b[1;32m     78\u001b[0m             \u001b[0;32mif\u001b[0m \u001b[0mmodule_str\u001b[0m \u001b[0;32mnot\u001b[0m \u001b[0;32min\u001b[0m \u001b[0msys\u001b[0m\u001b[0;34m.\u001b[0m\u001b[0mmodules\u001b[0m\u001b[0;34m:\u001b[0m\u001b[0;34m\u001b[0m\u001b[0;34m\u001b[0m\u001b[0m\n\u001b[1;32m     79\u001b[0m                 \u001b[0;32mwith\u001b[0m \u001b[0mprepended_to_syspath\u001b[0m\u001b[0;34m(\u001b[0m\u001b[0mself\u001b[0m\u001b[0;34m.\u001b[0m\u001b[0mipython_extension_dir\u001b[0m\u001b[0;34m)\u001b[0m\u001b[0;34m:\u001b[0m\u001b[0;34m\u001b[0m\u001b[0;34m\u001b[0m\u001b[0m\n\u001b[0;32m---> 80\u001b[0;31m                     \u001b[0mmod\u001b[0m \u001b[0;34m=\u001b[0m \u001b[0mimport_module\u001b[0m\u001b[0;34m(\u001b[0m\u001b[0mmodule_str\u001b[0m\u001b[0;34m)\u001b[0m\u001b[0;34m\u001b[0m\u001b[0;34m\u001b[0m\u001b[0m\n\u001b[0m\u001b[1;32m     81\u001b[0m                     \u001b[0;32mif\u001b[0m \u001b[0mmod\u001b[0m\u001b[0;34m.\u001b[0m\u001b[0m__file__\u001b[0m\u001b[0;34m.\u001b[0m\u001b[0mstartswith\u001b[0m\u001b[0;34m(\u001b[0m\u001b[0mself\u001b[0m\u001b[0;34m.\u001b[0m\u001b[0mipython_extension_dir\u001b[0m\u001b[0;34m)\u001b[0m\u001b[0;34m:\u001b[0m\u001b[0;34m\u001b[0m\u001b[0;34m\u001b[0m\u001b[0m\n\u001b[1;32m     82\u001b[0m                         print((\"Loading extensions from {dir} is deprecated. \"\n",
      "\u001b[0;32m/usr/lib/python3.8/importlib/__init__.py\u001b[0m in \u001b[0;36mimport_module\u001b[0;34m(name, package)\u001b[0m\n\u001b[1;32m    125\u001b[0m                 \u001b[0;32mbreak\u001b[0m\u001b[0;34m\u001b[0m\u001b[0;34m\u001b[0m\u001b[0m\n\u001b[1;32m    126\u001b[0m             \u001b[0mlevel\u001b[0m \u001b[0;34m+=\u001b[0m \u001b[0;36m1\u001b[0m\u001b[0;34m\u001b[0m\u001b[0;34m\u001b[0m\u001b[0m\n\u001b[0;32m--> 127\u001b[0;31m     \u001b[0;32mreturn\u001b[0m \u001b[0m_bootstrap\u001b[0m\u001b[0;34m.\u001b[0m\u001b[0m_gcd_import\u001b[0m\u001b[0;34m(\u001b[0m\u001b[0mname\u001b[0m\u001b[0;34m[\u001b[0m\u001b[0mlevel\u001b[0m\u001b[0;34m:\u001b[0m\u001b[0;34m]\u001b[0m\u001b[0;34m,\u001b[0m \u001b[0mpackage\u001b[0m\u001b[0;34m,\u001b[0m \u001b[0mlevel\u001b[0m\u001b[0;34m)\u001b[0m\u001b[0;34m\u001b[0m\u001b[0;34m\u001b[0m\u001b[0m\n\u001b[0m\u001b[1;32m    128\u001b[0m \u001b[0;34m\u001b[0m\u001b[0m\n\u001b[1;32m    129\u001b[0m \u001b[0;34m\u001b[0m\u001b[0m\n",
      "\u001b[0;32m/usr/lib/python3.8/importlib/_bootstrap.py\u001b[0m in \u001b[0;36m_gcd_import\u001b[0;34m(name, package, level)\u001b[0m\n",
      "\u001b[0;32m/usr/lib/python3.8/importlib/_bootstrap.py\u001b[0m in \u001b[0;36m_find_and_load\u001b[0;34m(name, import_)\u001b[0m\n",
      "\u001b[0;32m/usr/lib/python3.8/importlib/_bootstrap.py\u001b[0m in \u001b[0;36m_find_and_load_unlocked\u001b[0;34m(name, import_)\u001b[0m\n",
      "\u001b[0;31mModuleNotFoundError\u001b[0m: No module named 'examples'"
     ]
    }
   ],
   "source": [
    "import pandas as pd\n",
    "%load_ext examples"
   ]
  },
  {
   "cell_type": "code",
   "execution_count": 2,
   "metadata": {},
   "outputs": [],
   "source": [
    "df = pd.DataFrame({\n",
    "        'vals':[111.0, 102, 401],\n",
    "        'categs':['metric1', 'metric2', 'metric3']\n",
    "})\n",
    "\n",
    "string = \"From Python\""
   ]
  },
  {
   "cell_type": "markdown",
   "metadata": {},
   "source": [
    "In the following example we show the two uses of the Roundtrip API. \n",
    "1. We show the explicit the explicit push pull by sending down a string and modifying it on the javascript side.\n",
    "2. The automatic binding will update other cells automatically. We modify the passed in dataframe data and send a request to update the ipython variable and all cells refrenceing it."
   ]
  },
  {
   "cell_type": "code",
   "execution_count": 3,
   "metadata": {
    "scrolled": false
   },
   "outputs": [
    {
     "data": {
      "text/html": [
       "<head>\n",
       "</head>\n",
       "<body>\n",
       "    <h3>Explicit Push-Pull Example</h3>\n",
       "        <div id=\"passed1\"></div>\n",
       "        <button id=\"demo\"> Click me to change data. </button>\n",
       "    <h3>Automatic Binding Example</h3>\n",
       "        <div id=\"bound1\"></div>\n",
       "        <button id=\"binding-demo\">Click me to confirm data change and show it reflected in another cell.</button>\n",
       "</body>"
      ],
      "text/plain": [
       "<IPython.core.display.HTML object>"
      ]
     },
     "metadata": {},
     "output_type": "display_data"
    },
    {
     "name": "stdout",
     "output_type": "stream",
     "text": [
      "['df', 'string']\n"
     ]
    },
    {
     "data": {
      "application/javascript": [
       "\n",
       " (function(){\n",
       "            window.Roundtrip['test'] = {\n",
       "                'origin': 'INIT',\n",
       "                'two_way': false,\n",
       "                'python_var':'string', \n",
       "                'type':'str', \n",
       "                'data':'From Python', \n",
       "                'converter':null,\n",
       "            };\n",
       "        })();\n"
      ],
      "text/plain": [
       "<IPython.core.display.Javascript object>"
      ]
     },
     "metadata": {},
     "output_type": "display_data"
    },
    {
     "data": {
      "application/javascript": [
       "\n",
       " (function(){\n",
       "            window.Roundtrip['test_2'] = {\n",
       "                'origin': 'INIT',\n",
       "                'two_way': false,\n",
       "                'python_var':'', \n",
       "                'type':'int', \n",
       "                'data':'4', \n",
       "                'converter':null,\n",
       "            };\n",
       "        })();\n"
      ],
      "text/plain": [
       "<IPython.core.display.Javascript object>"
      ]
     },
     "metadata": {},
     "output_type": "display_data"
    },
    {
     "data": {
      "application/javascript": [
       "\n",
       " (function(){\n",
       "            window.Roundtrip['js_df'] = {\n",
       "                'origin': 'INIT',\n",
       "                'two_way': false,\n",
       "                'python_var':'df', \n",
       "                'type':'pandas.core.frame.DataFrame', \n",
       "                'data':'{\"vals\":{\"0\":111.0,\"1\":102.0,\"2\":401.0},\"categs\":{\"0\":\"metric1\",\"1\":\"metric2\",\"2\":\"metric3\"}}', \n",
       "                'converter':{\"name\": \"_from_js\", \"code\": \"def _from_js(data):\\n    return pd.DataFrame(data)\\n\"},\n",
       "            };\n",
       "        })();\n"
      ],
      "text/plain": [
       "<IPython.core.display.Javascript object>"
      ]
     },
     "metadata": {},
     "output_type": "display_data"
    },
    {
     "data": {
      "application/javascript": [
       "(function(element){\n",
       "    require(['https://d3js.org/d3.v4.min.js'], function(d3) {\n",
       "        const Roundtrip = window.Roundtrip;\n",
       "        const elem = element[0].parentNode.parentNode;\n",
       "        const data = Roundtrip.test\n",
       "\n",
       "        const t = d3.select(elem).select('#passed1');\n",
       "        t.text(JSON.stringify(data));\n",
       "\n",
       "        d3.select(elem).select(\"#demo\").on(\"click\", function(){\n",
       "            Roundtrip.test = \"Modified in js code.\";\n",
       "            t.text(Roundtrip.test);\n",
       "        })\n",
       "\n",
       "        //it is reccomended to not work directly off the roundtrip\n",
       "        // object and instead work through a local variable\n",
       "        var df = JSON.parse(Roundtrip.js_df);\n",
       "        var pivot = [];\n",
       "\n",
       "        for (var cat in df.categs){\n",
       "            var tmp = {};\n",
       "            tmp.categ = df.categs[cat];\n",
       "            tmp.val = df.vals[cat];\n",
       "            pivot.push(tmp);\n",
       "        }\n",
       "\n",
       "\n",
       "        var df_enter = d3.select(elem).select(\"#bound1\")\n",
       "            .selectAll(\".data-elem\")\n",
       "            .data(pivot)\n",
       "            .enter();\n",
       "\n",
       "        var line = df_enter.append(\"div\")\n",
       "                .attr(\"class\", \"data-elem\")\n",
       "                .style(\"margin-bottom\", '15px');\n",
       "        line.append(\"div\")\n",
       "                .text(d=>{return d.categ + \" \"});\n",
       "        line.append(\"input\")\n",
       "                    .attr(\"type\", \"text\")\n",
       "                    .attr(\"value\", d=>d.val)\n",
       "                    .on('change', function(d, i){\n",
       "                        df.vals[i.toString()] = parseFloat(d3.select(this).property(\"value\"));\n",
       "                    });\n",
       "\n",
       "        d3.select(elem).select(\"#binding-demo\")\n",
       "                    .on(\"click\", function(){\n",
       "                        Roundtrip.js_df = JSON.stringify(df);\n",
       "                    })\n",
       "        \n",
       "    })\n",
       "})(element);"
      ],
      "text/plain": [
       "<IPython.core.display.Javascript object>"
      ]
     },
     "metadata": {},
     "output_type": "display_data"
    }
   ],
   "source": [
    "%basic df string"
   ]
  },
  {
   "cell_type": "code",
   "execution_count": 4,
   "metadata": {},
   "outputs": [
    {
     "data": {
      "text/html": [
       "<head>\n",
       "</head>\n",
       "<body>\n",
       "    <h3>Explicit Push-Pull Example</h3>\n",
       "        <div id=\"passed1\"></div>\n",
       "        <button id=\"demo\"> Click me to change data. </button>\n",
       "    <h3>Automatic Binding Example</h3>\n",
       "        <div id=\"bound1\"></div>\n",
       "        <button id=\"binding-demo\">Click me to confirm data change and show it reflected in another cell.</button>\n",
       "</body>"
      ],
      "text/plain": [
       "<IPython.core.display.HTML object>"
      ]
     },
     "metadata": {},
     "output_type": "display_data"
    },
    {
     "name": "stdout",
     "output_type": "stream",
     "text": [
      "['?df', 'string']\n"
     ]
    },
    {
     "data": {
      "application/javascript": [
       "\n",
       " (function(){\n",
       "            window.Roundtrip['test'] = {\n",
       "                'origin': 'INIT',\n",
       "                'two_way': false,\n",
       "                'python_var':'string', \n",
       "                'type':'str', \n",
       "                'data':'From Python', \n",
       "                'converter':null,\n",
       "            };\n",
       "        })();\n"
      ],
      "text/plain": [
       "<IPython.core.display.Javascript object>"
      ]
     },
     "metadata": {},
     "output_type": "display_data"
    },
    {
     "data": {
      "application/javascript": [
       "\n",
       " (function(){\n",
       "            window.Roundtrip['test_2'] = {\n",
       "                'origin': 'INIT',\n",
       "                'two_way': false,\n",
       "                'python_var':'', \n",
       "                'type':'int', \n",
       "                'data':'4', \n",
       "                'converter':null,\n",
       "            };\n",
       "        })();\n"
      ],
      "text/plain": [
       "<IPython.core.display.Javascript object>"
      ]
     },
     "metadata": {},
     "output_type": "display_data"
    },
    {
     "data": {
      "application/javascript": [
       "\n",
       " (function(){\n",
       "            window.Roundtrip['js_df'] = {\n",
       "                'origin': 'INIT',\n",
       "                'two_way': true,\n",
       "                'python_var':'df', \n",
       "                'type':'pandas.core.frame.DataFrame', \n",
       "                'data':'{\"vals\":{\"0\":111.0,\"1\":102.0,\"2\":401.0},\"categs\":{\"0\":\"metric1\",\"1\":\"metric2\",\"2\":\"metric3\"}}', \n",
       "                'converter':{\"name\": \"_from_js\", \"code\": \"def _from_js(data):\\n    return pd.DataFrame(data)\\n\"},\n",
       "            };\n",
       "        })();\n"
      ],
      "text/plain": [
       "<IPython.core.display.Javascript object>"
      ]
     },
     "metadata": {},
     "output_type": "display_data"
    },
    {
     "data": {
      "application/javascript": [
       "(function(element){\n",
       "    require(['https://d3js.org/d3.v4.min.js'], function(d3) {\n",
       "        const Roundtrip = window.Roundtrip;\n",
       "        const elem = element[0].parentNode.parentNode;\n",
       "        const data = Roundtrip.test\n",
       "\n",
       "        const t = d3.select(elem).select('#passed1');\n",
       "        t.text(JSON.stringify(data));\n",
       "\n",
       "        d3.select(elem).select(\"#demo\").on(\"click\", function(){\n",
       "            Roundtrip.test = \"Modified in js code.\";\n",
       "            t.text(Roundtrip.test);\n",
       "        })\n",
       "\n",
       "        //it is reccomended to not work directly off the roundtrip\n",
       "        // object and instead work through a local variable\n",
       "        var df = JSON.parse(Roundtrip.js_df);\n",
       "        var pivot = [];\n",
       "\n",
       "        for (var cat in df.categs){\n",
       "            var tmp = {};\n",
       "            tmp.categ = df.categs[cat];\n",
       "            tmp.val = df.vals[cat];\n",
       "            pivot.push(tmp);\n",
       "        }\n",
       "\n",
       "\n",
       "        var df_enter = d3.select(elem).select(\"#bound1\")\n",
       "            .selectAll(\".data-elem\")\n",
       "            .data(pivot)\n",
       "            .enter();\n",
       "\n",
       "        var line = df_enter.append(\"div\")\n",
       "                .attr(\"class\", \"data-elem\")\n",
       "                .style(\"margin-bottom\", '15px');\n",
       "        line.append(\"div\")\n",
       "                .text(d=>{return d.categ + \" \"});\n",
       "        line.append(\"input\")\n",
       "                    .attr(\"type\", \"text\")\n",
       "                    .attr(\"value\", d=>d.val)\n",
       "                    .on('change', function(d, i){\n",
       "                        df.vals[i.toString()] = parseFloat(d3.select(this).property(\"value\"));\n",
       "                    });\n",
       "\n",
       "        d3.select(elem).select(\"#binding-demo\")\n",
       "                    .on(\"click\", function(){\n",
       "                        Roundtrip.js_df = JSON.stringify(df);\n",
       "                    })\n",
       "        \n",
       "    })\n",
       "})(element);"
      ],
      "text/plain": [
       "<IPython.core.display.Javascript object>"
      ]
     },
     "metadata": {},
     "output_type": "display_data"
    }
   ],
   "source": [
    "%basic ?df string"
   ]
  },
  {
   "cell_type": "code",
   "execution_count": 5,
   "metadata": {},
   "outputs": [
    {
     "data": {
      "text/html": [
       "<head>\n",
       "</head>\n",
       "<body>\n",
       "    <h3>See changes from another cell reflected here.</h3>\n",
       "    <div id=\"disp\"></div>\n",
       "</body>"
      ],
      "text/plain": [
       "<IPython.core.display.HTML object>"
      ]
     },
     "metadata": {},
     "output_type": "display_data"
    },
    {
     "data": {
      "application/javascript": [
       "\n",
       " (function(){\n",
       "            window.Roundtrip['binding_df'] = {\n",
       "                'origin': 'INIT',\n",
       "                'two_way': true,\n",
       "                'python_var':'df', \n",
       "                'type':'pandas.core.frame.DataFrame', \n",
       "                'data':'{\"vals\":{\"0\":111.0,\"1\":102.0,\"2\":401.0},\"categs\":{\"0\":\"metric1\",\"1\":\"metric2\",\"2\":\"metric3\"}}', \n",
       "                'converter':{\"name\": \"_from_js\", \"code\": \"def _from_js(data):\\n    return pd.DataFrame(data)\\n\"},\n",
       "            };\n",
       "        })();\n"
      ],
      "text/plain": [
       "<IPython.core.display.Javascript object>"
      ]
     },
     "metadata": {},
     "output_type": "display_data"
    },
    {
     "data": {
      "application/javascript": [
       "(function(element){\n",
       "    require(['https://d3js.org/d3.v4.min.js'], function(d3) {\n",
       "        Roundtrip = window.Roundtrip;\n",
       "        var elem = element[0].parentNode.parentNode;\n",
       "        const svg = d3.select(elem).select('#disp')\n",
       "            .append(\"svg\")\n",
       "            .attr(\"width\", 500)\n",
       "            .attr(\"height\", 500);\n",
       "        \n",
       "        const data = JSON.parse(Roundtrip.binding_df);\n",
       "        var pivot = [];\n",
       "        var max = Number.MIN_VALUE;\n",
       "\n",
       "\n",
       "        for (var cat in data.categs){\n",
       "            var tmp = {};\n",
       "            tmp.categ = data.categs[cat];\n",
       "            tmp.val = data.vals[cat];\n",
       "            if(tmp.val > max){\n",
       "                max = tmp.val;\n",
       "            }\n",
       "            pivot.push(tmp);\n",
       "        }\n",
       "\n",
       "        var yscale = d3.scaleBand().domain(pivot.map(d=>{return d.categ})).range([425, 0]).padding(0.4);\n",
       "        var xscale = d3.scaleLinear().domain([0, max]).range([0,400]);\n",
       "\n",
       "        var x_axis = d3.axisBottom().scale(xscale);\n",
       "        var y_axis = d3.axisLeft().scale(yscale).tickFormat(d=>{return d});\n",
       "        \n",
       "        var left = 50;\n",
       "\n",
       "        svg.append(\"g\")\n",
       "            .attr(\"transform\", `translate(${left}, 440)`)\n",
       "            .call(x_axis);\n",
       "\n",
       "        svg.append(\"g\")\n",
       "            .attr(\"transform\", `translate(${left}, 15)`)\n",
       "            .call(y_axis);\n",
       "\n",
       "        svg.selectAll(\".bar\")\n",
       "            .data(pivot)\n",
       "            .enter()\n",
       "            .append(\"rect\")\n",
       "                .attr(\"class\", \"bar\")\n",
       "                .attr(\"width\", d=>xscale(d.val))\n",
       "                .attr(\"height\", 50)\n",
       "                .attr(\"fill\", \"#555599\")\n",
       "                .attr(\"x\", 15)\n",
       "                .attr(\"y\", (d,i)=>yscale(d.categ)+15)\n",
       "                .attr(\"transform\", `translate(${left-15}, 0)`);\n",
       "        \n",
       "\n",
       "    })\n",
       "})(element)"
      ],
      "text/plain": [
       "<IPython.core.display.Javascript object>"
      ]
     },
     "metadata": {},
     "output_type": "display_data"
    }
   ],
   "source": [
    "%binding_example ?df"
   ]
  },
  {
   "cell_type": "code",
   "execution_count": 6,
   "metadata": {},
   "outputs": [
    {
     "data": {
      "text/html": [
       "<head>\n",
       "</head>\n",
       "<body>\n",
       "    <h3>See changes from another cell reflected here.</h3>\n",
       "    <div id=\"disp\"></div>\n",
       "</body>"
      ],
      "text/plain": [
       "<IPython.core.display.HTML object>"
      ]
     },
     "metadata": {},
     "output_type": "display_data"
    },
    {
     "data": {
      "application/javascript": [
       "\n",
       " (function(){\n",
       "            window.Roundtrip['binding_df'] = {\n",
       "                'origin': 'INIT',\n",
       "                'two_way': false,\n",
       "                'python_var':'df', \n",
       "                'type':'pandas.core.frame.DataFrame', \n",
       "                'data':'{\"vals\":{\"0\":111.0,\"1\":102.0,\"2\":401.0},\"categs\":{\"0\":\"metric1\",\"1\":\"metric2\",\"2\":\"metric3\"}}', \n",
       "                'converter':{\"name\": \"_from_js\", \"code\": \"def _from_js(data):\\n    return pd.DataFrame(data)\\n\"},\n",
       "            };\n",
       "        })();\n"
      ],
      "text/plain": [
       "<IPython.core.display.Javascript object>"
      ]
     },
     "metadata": {},
     "output_type": "display_data"
    },
    {
     "data": {
      "application/javascript": [
       "(function(element){\n",
       "    require(['https://d3js.org/d3.v4.min.js'], function(d3) {\n",
       "        Roundtrip = window.Roundtrip;\n",
       "        var elem = element[0].parentNode.parentNode;\n",
       "        const svg = d3.select(elem).select('#disp')\n",
       "            .append(\"svg\")\n",
       "            .attr(\"width\", 500)\n",
       "            .attr(\"height\", 500);\n",
       "        \n",
       "        const data = JSON.parse(Roundtrip.binding_df);\n",
       "        var pivot = [];\n",
       "        var max = Number.MIN_VALUE;\n",
       "\n",
       "\n",
       "        for (var cat in data.categs){\n",
       "            var tmp = {};\n",
       "            tmp.categ = data.categs[cat];\n",
       "            tmp.val = data.vals[cat];\n",
       "            if(tmp.val > max){\n",
       "                max = tmp.val;\n",
       "            }\n",
       "            pivot.push(tmp);\n",
       "        }\n",
       "\n",
       "        var yscale = d3.scaleBand().domain(pivot.map(d=>{return d.categ})).range([425, 0]).padding(0.4);\n",
       "        var xscale = d3.scaleLinear().domain([0, max]).range([0,400]);\n",
       "\n",
       "        var x_axis = d3.axisBottom().scale(xscale);\n",
       "        var y_axis = d3.axisLeft().scale(yscale).tickFormat(d=>{return d});\n",
       "        \n",
       "        var left = 50;\n",
       "\n",
       "        svg.append(\"g\")\n",
       "            .attr(\"transform\", `translate(${left}, 440)`)\n",
       "            .call(x_axis);\n",
       "\n",
       "        svg.append(\"g\")\n",
       "            .attr(\"transform\", `translate(${left}, 15)`)\n",
       "            .call(y_axis);\n",
       "\n",
       "        svg.selectAll(\".bar\")\n",
       "            .data(pivot)\n",
       "            .enter()\n",
       "            .append(\"rect\")\n",
       "                .attr(\"class\", \"bar\")\n",
       "                .attr(\"width\", d=>xscale(d.val))\n",
       "                .attr(\"height\", 50)\n",
       "                .attr(\"fill\", \"#555599\")\n",
       "                .attr(\"x\", 15)\n",
       "                .attr(\"y\", (d,i)=>yscale(d.categ)+15)\n",
       "                .attr(\"transform\", `translate(${left-15}, 0)`);\n",
       "        \n",
       "\n",
       "    })\n",
       "})(element)"
      ],
      "text/plain": [
       "<IPython.core.display.Javascript object>"
      ]
     },
     "metadata": {},
     "output_type": "display_data"
    }
   ],
   "source": [
    "%binding_example df"
   ]
  },
  {
   "cell_type": "code",
   "execution_count": null,
   "metadata": {},
   "outputs": [],
   "source": [
    "df"
   ]
  },
  {
   "cell_type": "code",
   "execution_count": null,
   "metadata": {},
   "outputs": [],
   "source": [
    "%fetch_basic x"
   ]
  },
  {
   "cell_type": "code",
   "execution_count": null,
   "metadata": {},
   "outputs": [],
   "source": [
    "print(x)"
   ]
  },
  {
   "cell_type": "code",
   "execution_count": null,
   "metadata": {},
   "outputs": [],
   "source": [
    "%bargraph"
   ]
  },
  {
   "cell_type": "code",
   "execution_count": 6,
   "metadata": {},
   "outputs": [
    {
     "data": {
      "text/html": [
       "<head>\n",
       "</head>\n",
       "<body>\n",
       "    <h3>Explicit Push-Pull Example</h3>\n",
       "        <div id=\"passed1\"></div>\n",
       "        <button id=\"demo\"> Click me to change data. </button>\n",
       "    <h3>Automatic Binding Example</h3>\n",
       "        <div id=\"bound1\"></div>\n",
       "        <button id=\"binding-demo\">Click me to confirm data change and show it reflected in another cell.</button>\n",
       "</body>"
      ],
      "text/plain": [
       "<IPython.core.display.HTML object>"
      ]
     },
     "metadata": {},
     "output_type": "display_data"
    },
    {
     "name": "stdout",
     "output_type": "stream",
     "text": [
      "['?df', 'string']\n"
     ]
    },
    {
     "data": {
      "application/javascript": [
       "\n",
       " (function(){\n",
       "            let id;\n",
       "            let cells = Jupyter.notebook.get_cell_elements();\n",
       "            for(let key in Object.keys(cells)){\n",
       "                if(cells[key] !== undefined && !cells[key].className.includes('unselected')){\n",
       "                    id = key-1;\n",
       "                }\n",
       "            }\n",
       "\n",
       "            window.Roundtrip['test'] = {\n",
       "                'origin': 'INIT',\n",
       "                'id': id,\n",
       "                'two_way': false,\n",
       "                'python_var':'string', \n",
       "                'type':'str', \n",
       "                'data':'From Python', \n",
       "                'converter':null,\n",
       "            }; \n",
       "        })();\n"
      ],
      "text/plain": [
       "<IPython.core.display.Javascript object>"
      ]
     },
     "metadata": {},
     "output_type": "display_data"
    },
    {
     "data": {
      "application/javascript": [
       "\n",
       " (function(){\n",
       "            let id;\n",
       "            let cells = Jupyter.notebook.get_cell_elements();\n",
       "            for(let key in Object.keys(cells)){\n",
       "                if(cells[key] !== undefined && !cells[key].className.includes('unselected')){\n",
       "                    id = key-1;\n",
       "                }\n",
       "            }\n",
       "\n",
       "            window.Roundtrip['test_2'] = {\n",
       "                'origin': 'INIT',\n",
       "                'id': id,\n",
       "                'two_way': false,\n",
       "                'python_var':'', \n",
       "                'type':'int', \n",
       "                'data':'4', \n",
       "                'converter':null,\n",
       "            }; \n",
       "        })();\n"
      ],
      "text/plain": [
       "<IPython.core.display.Javascript object>"
      ]
     },
     "metadata": {},
     "output_type": "display_data"
    },
    {
     "data": {
      "application/javascript": [
       "\n",
       " (function(){\n",
       "            let id;\n",
       "            let cells = Jupyter.notebook.get_cell_elements();\n",
       "            for(let key in Object.keys(cells)){\n",
       "                if(cells[key] !== undefined && !cells[key].className.includes('unselected')){\n",
       "                    id = key-1;\n",
       "                }\n",
       "            }\n",
       "\n",
       "            window.Roundtrip['js_df'] = {\n",
       "                'origin': 'INIT',\n",
       "                'id': id,\n",
       "                'two_way': true,\n",
       "                'python_var':'df', \n",
       "                'type':'pandas.core.frame.DataFrame', \n",
       "                'data':'{\"vals\":{\"0\":111.0,\"1\":102.0,\"2\":401.0},\"categs\":{\"0\":\"metric1\",\"1\":\"metric2\",\"2\":\"metric3\"}}', \n",
       "                'converter':{\"name\": \"_from_js\", \"code\": \"def _from_js(data):\\n    return pd.DataFrame(data)\\n\"},\n",
       "            }; \n",
       "        })();\n"
      ],
      "text/plain": [
       "<IPython.core.display.Javascript object>"
      ]
     },
     "metadata": {},
     "output_type": "display_data"
    },
    {
     "data": {
      "application/javascript": [
       "(function(element){\n",
       "    require(['https://d3js.org/d3.v4.min.js'], function(d3) {\n",
       "        const Roundtrip = window.Roundtrip;\n",
       "        const elem = element[0].parentNode.parentNode;\n",
       "        const data = Roundtrip.test\n",
       "\n",
       "        const t = d3.select(elem).select('#passed1');\n",
       "        t.text(JSON.stringify(data));\n",
       "\n",
       "        d3.select(elem).select(\"#demo\").on(\"click\", function(){\n",
       "            Roundtrip.test = \"Modified in js code.\";\n",
       "            t.text(Roundtrip.test);\n",
       "        })\n",
       "\n",
       "        //it is reccomended to not work directly off the roundtrip\n",
       "        // object and instead work through a local variable\n",
       "        var df = JSON.parse(Roundtrip.js_df);\n",
       "        var pivot = [];\n",
       "\n",
       "        for (var cat in df.categs){\n",
       "            var tmp = {};\n",
       "            tmp.categ = df.categs[cat];\n",
       "            tmp.val = df.vals[cat];\n",
       "            pivot.push(tmp);\n",
       "        }\n",
       "\n",
       "\n",
       "        var df_enter = d3.select(elem).select(\"#bound1\")\n",
       "            .selectAll(\".data-elem\")\n",
       "            .data(pivot)\n",
       "            .enter();\n",
       "\n",
       "        var line = df_enter.append(\"div\")\n",
       "                .attr(\"class\", \"data-elem\")\n",
       "                .style(\"margin-bottom\", '15px');\n",
       "        line.append(\"div\")\n",
       "                .text(d=>{return d.categ + \" \"});\n",
       "        line.append(\"input\")\n",
       "                    .attr(\"type\", \"text\")\n",
       "                    .attr(\"value\", d=>d.val)\n",
       "                    .on('change', function(d, i){\n",
       "                        df.vals[i.toString()] = parseFloat(d3.select(this).property(\"value\"));\n",
       "                    });\n",
       "\n",
       "        d3.select(elem).select(\"#binding-demo\")\n",
       "                    .on(\"click\", function(){\n",
       "                        console.log(JSON.stringify(df));\n",
       "                        Roundtrip.js_df = JSON.stringify(df);\n",
       "                    })\n",
       "        \n",
       "    })\n",
       "})(element);"
      ],
      "text/plain": [
       "<IPython.core.display.Javascript object>"
      ]
     },
     "metadata": {},
     "output_type": "display_data"
    }
   ],
   "source": [
    "%basic ?df string"
   ]
  },
  {
   "cell_type": "code",
   "execution_count": null,
   "metadata": {},
   "outputs": [],
   "source": [
    "# %basic df mode=lock updates= automatic updates=manual"
   ]
  },
  {
   "cell_type": "code",
   "execution_count": null,
   "metadata": {},
   "outputs": [],
   "source": [
    "# %fetch_basic x"
   ]
  },
  {
   "cell_type": "code",
   "execution_count": null,
   "metadata": {},
   "outputs": [],
   "source": [
    "# print(x)"
   ]
  },
  {
   "cell_type": "code",
   "execution_count": null,
   "metadata": {},
   "outputs": [],
   "source": [
    "# %watch-scatterplot-selection select \n",
    "# %watch-scatteplot-x"
   ]
  },
  {
   "cell_type": "code",
   "execution_count": 170,
   "metadata": {},
   "outputs": [],
   "source": [
    "# mode=lock updates= automatic updates=manual"
   ]
  }
 ],
 "metadata": {
  "kernelspec": {
   "display_name": "Python 3",
   "language": "python",
   "name": "python3"
  },
  "language_info": {
   "codemirror_mode": {
    "name": "ipython",
    "version": 3
   },
   "file_extension": ".py",
   "mimetype": "text/x-python",
   "name": "python",
   "nbconvert_exporter": "python",
   "pygments_lexer": "ipython3",
   "version": "3.8.10"
  }
 },
 "nbformat": 4,
 "nbformat_minor": 4
}
