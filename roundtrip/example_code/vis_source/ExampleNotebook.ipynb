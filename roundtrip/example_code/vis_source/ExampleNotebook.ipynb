{
 "cells": [
  {
   "cell_type": "code",
   "execution_count": null,
   "metadata": {
    "scrolled": true
   },
   "outputs": [],
   "source": [
    "%load_ext vis_interface"
   ]
  },
  {
   "cell_type": "markdown",
   "metadata": {},
   "source": [
    "## D3 Load Vis example\n",
    "Basic examples to load a D3 visualization with external data (json files). First example has panning within the cell (click the left side of the cell to collapse the vertical portion into a scrollable pane). The other example shows interactions within the cell (click the blue bars to expand them further). Note that these examples come from Mike Bostock's bl.ocks.org (https://bost.ocks.org/mike/)"
   ]
  },
  {
   "cell_type": "code",
   "execution_count": null,
   "metadata": {},
   "outputs": [],
   "source": [
    "sum = 5\n",
    "%loadVisualization myVis0 walkThroughArgList.js 1 2 3 4 %sum"
   ]
  },
  {
   "cell_type": "code",
   "execution_count": null,
   "metadata": {
    "scrolled": true
   },
   "outputs": [],
   "source": [
    "%loadVisualization myVis1 linkstrength.js link.html miserables.json"
   ]
  },
  {
   "cell_type": "code",
   "execution_count": null,
   "metadata": {},
   "outputs": [],
   "source": [
    "%loadVisualization myVis2 bgraph.js bgraph.html barsdata.json"
   ]
  },
  {
   "cell_type": "markdown",
   "metadata": {},
   "source": [
    "## Brushing Example\n",
    "This example shows highlighting and fetching data from within a javascript visualization and bringing that into back into python. Highlight some points in the scatter plot and then run the fetch data command. The variable \"speciesSelectedPython\" will contain a string that can be passed into the final example to create a bar chart comparing the number of each species selected."
   ]
  },
  {
   "cell_type": "code",
   "execution_count": null,
   "metadata": {},
   "outputs": [],
   "source": [
    "%loadVisualization myVis3 graphsScatter.js index.html flowers_simple.csv"
   ]
  },
  {
   "cell_type": "code",
   "execution_count": null,
   "metadata": {},
   "outputs": [],
   "source": [
    "%fetchData (myVis3, speciesSelectedPython, speciesSelected)"
   ]
  },
  {
   "cell_type": "markdown",
   "metadata": {},
   "source": [
    "## Bar Chart Example\n",
    "See above. The string speciesSelectedPython is the python value derived from the javascript value \"speciesSelected\""
   ]
  },
  {
   "cell_type": "code",
   "execution_count": null,
   "metadata": {},
   "outputs": [],
   "source": [
    "print(speciesSelectedPython)\n",
    "%loadVisualization myVis4 bars.js %speciesSelectedPython"
   ]
  },
  {
   "cell_type": "code",
   "execution_count": null,
   "metadata": {},
   "outputs": [],
   "source": []
  }
 ],
 "metadata": {
  "kernelspec": {
   "display_name": "Python 3",
   "language": "python",
   "name": "python3"
  },
  "language_info": {
   "codemirror_mode": {
    "name": "ipython",
    "version": 3
   },
   "file_extension": ".py",
   "mimetype": "text/x-python",
   "name": "python",
   "nbconvert_exporter": "python",
   "pygments_lexer": "ipython3",
   "version": "3.6.3"
  }
 },
 "nbformat": 4,
 "nbformat_minor": 2
}
