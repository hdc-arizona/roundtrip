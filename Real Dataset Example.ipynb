{
 "cells": [
  {
   "cell_type": "code",
   "execution_count": null,
   "id": "6854717b",
   "metadata": {},
   "outputs": [],
   "source": [
    "import pandas as pd\n",
    "import json\n",
    "import pycountry_convert as pc\n",
    "%load_ext vis_examples"
   ]
  },
  {
   "cell_type": "markdown",
   "id": "7b4722af",
   "metadata": {},
   "source": [
    "# Support for Current CCT VIS Workflow in Hatchet"
   ]
  },
  {
   "cell_type": "markdown",
   "id": "c5d8420a",
   "metadata": {},
   "source": [
    "We begin by loading real data, downloaded from Kaggle, into a pandas dataframe and loading derived information from that dataframe."
   ]
  },
  {
   "cell_type": "code",
   "execution_count": null,
   "id": "cbcbb49e",
   "metadata": {},
   "outputs": [],
   "source": [
    "dataset = pd.read_csv('Examples/Electricity_Production_By_Source.csv')\n",
    "vis_in = dataset.groupby(['Entity']).max().reset_index()\n",
    "\n",
    "\n",
    "def getContinent(row):\n",
    "    try:\n",
    "        c_code = pc.country_name_to_country_alpha2(row['Entity'], cn_name_format='default')\n",
    "        return pc.country_alpha2_to_continent_code(c_code)\n",
    "    except:\n",
    "        return 'OTH'\n",
    "\n",
    "vis_in['Continent'] = vis_in.apply(getContinent, axis=1)"
   ]
  },
  {
   "cell_type": "code",
   "execution_count": null,
   "id": "6c88b752",
   "metadata": {},
   "outputs": [],
   "source": [
    "vis_in"
   ]
  },
  {
   "cell_type": "markdown",
   "id": "571b579a",
   "metadata": {},
   "source": [
    "We can use the basic functionality in roundtrip to pass this data into our scatterplot as a DataFrame (or other complex datatype). The visualization developer -- whoever built scatterplot -- will manage the necessary conversions."
   ]
  },
  {
   "cell_type": "code",
   "execution_count": null,
   "id": "13016277",
   "metadata": {
    "scrolled": false
   },
   "outputs": [],
   "source": [
    "%scatter_plt vis_in"
   ]
  },
  {
   "cell_type": "markdown",
   "id": "b8d9c289",
   "metadata": {},
   "source": [
    "Once visualized, we can return our filter selections back to our notebook with a magic function provided by the visualization developer `get_filter`. This function makes a pass through call to a \"return\" function provided by our Roundtrip API and stores the data in `fltr`."
   ]
  },
  {
   "cell_type": "code",
   "execution_count": null,
   "id": "17f55c2c",
   "metadata": {},
   "outputs": [],
   "source": [
    "%get_filter fltr"
   ]
  },
  {
   "cell_type": "code",
   "execution_count": null,
   "id": "82b87449",
   "metadata": {},
   "outputs": [],
   "source": [
    "fltr"
   ]
  },
  {
   "cell_type": "markdown",
   "id": "520b8bb1",
   "metadata": {},
   "source": [
    "`fltr` Is returned from the \"get_filter\" function as a jsonified string so we can load it and then filter our visualization. If we re-run our above `scatter_plt` cell we will see that the selected circles are now gone."
   ]
  },
  {
   "cell_type": "code",
   "execution_count": null,
   "id": "53853466",
   "metadata": {
    "scrolled": true
   },
   "outputs": [],
   "source": [
    "fltr = json.loads(fltr)\n",
    "vis_in = vis_in[~vis_in.index.isin(fltr)]"
   ]
  },
  {
   "cell_type": "markdown",
   "id": "2a9706b3",
   "metadata": {},
   "source": [
    "## More Complex and Dynamic Workflows with `?` operator"
   ]
  },
  {
   "cell_type": "markdown",
   "id": "23ebf426",
   "metadata": {},
   "source": [
    "### Automatic passing of javascript updatesbetween multiple views"
   ]
  },
  {
   "cell_type": "markdown",
   "id": "c0970b7e",
   "metadata": {},
   "source": [
    "We load data like we did before."
   ]
  },
  {
   "cell_type": "code",
   "execution_count": null,
   "id": "f3b464d0",
   "metadata": {},
   "outputs": [],
   "source": [
    "dataset = pd.read_csv('Examples/Electricity_Production_By_Source.csv')\n",
    "vis_in = dataset.groupby(['Entity']).max().reset_index()\n",
    "\n",
    "\n",
    "def getContinent(row):\n",
    "    try:\n",
    "        c_code = pc.country_name_to_country_alpha2(row['Entity'], cn_name_format='default')\n",
    "        return pc.country_alpha2_to_continent_code(c_code)\n",
    "    except:\n",
    "        return 'OTH'\n",
    "\n",
    "vis_in['Continent'] = vis_in.apply(getContinent, axis=1)"
   ]
  },
  {
   "cell_type": "markdown",
   "id": "be265a36",
   "metadata": {},
   "source": [
    "In the following cell you will see that the visualization developer provided an optional second argument to our scatterplot `out`. You will also see that this argument has a new operator `?`.\n",
    "\n",
    "The `?` operator is provided by roundtrip to allow users the freedom to define Jupyter variables that they would like to act like 'passed by refrence' variables and auto-update when changed elsewhere in the notebook.\n",
    "\n",
    "A visualization developer may disable this two way binding if they so choose. In the `scatter_plt` is it optional for both our variables `vis_in` and `out`."
   ]
  },
  {
   "cell_type": "code",
   "execution_count": null,
   "id": "a47a18e0",
   "metadata": {
    "scrolled": false
   },
   "outputs": [],
   "source": [
    "%scatter_plt vis_in ?out"
   ]
  },
  {
   "cell_type": "markdown",
   "id": "3e3dd85f",
   "metadata": {},
   "source": [
    "Because `out` is bound with the `?` operator, selections made in the above plot will be automatically reflected in the following cell after it has been run at least once."
   ]
  },
  {
   "cell_type": "code",
   "execution_count": null,
   "id": "cad1280d",
   "metadata": {},
   "outputs": [],
   "source": [
    "%show_table ?out"
   ]
  },
  {
   "cell_type": "code",
   "execution_count": null,
   "id": "c0448f91",
   "metadata": {},
   "outputs": [],
   "source": [
    "%scatter_plt ?out ?out2"
   ]
  },
  {
   "cell_type": "code",
   "execution_count": null,
   "id": "cab7f651",
   "metadata": {},
   "outputs": [],
   "source": [
    "%show_table ?out2"
   ]
  },
  {
   "cell_type": "markdown",
   "id": "a709c666",
   "metadata": {},
   "source": [
    "### Automatic updating of RT visualizations on jupyter variables change"
   ]
  },
  {
   "cell_type": "markdown",
   "id": "8cb092b8",
   "metadata": {},
   "source": [
    "Here we define our dataset once again and visualize it."
   ]
  },
  {
   "cell_type": "code",
   "execution_count": null,
   "id": "978154a8",
   "metadata": {},
   "outputs": [],
   "source": [
    "dataset = pd.read_csv('Examples/Electricity_Production_By_Source.csv')\n",
    "climate_data = dataset.groupby(['Entity']).max().reset_index()\n",
    "\n",
    "\n",
    "def getContinent(row):\n",
    "    try:\n",
    "        c_code = pc.country_name_to_country_alpha2(row['Entity'], cn_name_format='default')\n",
    "        return pc.country_alpha2_to_continent_code(c_code)\n",
    "    except:\n",
    "        return 'OTH'\n",
    "\n",
    "climate_data['Continent'] = climate_data.apply(getContinent, axis=1)"
   ]
  },
  {
   "cell_type": "code",
   "execution_count": null,
   "id": "ee7cdd51",
   "metadata": {},
   "outputs": [],
   "source": [
    "%scatter_plt ?climate_data ?selection"
   ]
  },
  {
   "cell_type": "code",
   "execution_count": null,
   "id": "3a4add89",
   "metadata": {},
   "outputs": [],
   "source": [
    "%show_table ?selection"
   ]
  },
  {
   "cell_type": "markdown",
   "id": "95a31b3f",
   "metadata": {},
   "source": [
    "To get rid of some of our \"garbage\" data programatically, we can filter out all the data assocaited with the `oth` continent. Because we have specified `climate_data` to auto-update above we will see the `scatter_plt` reload with our new `climate_data`."
   ]
  },
  {
   "cell_type": "code",
   "execution_count": null,
   "id": "cab36dd8",
   "metadata": {},
   "outputs": [],
   "source": [
    "climate_data = climate_data[climate_data['Continent'] != 'OTH']"
   ]
  },
  {
   "cell_type": "markdown",
   "id": "4b006e20",
   "metadata": {},
   "source": [
    "We can also do other interesting things like filter to only get data from Europe. These manipulations are not supported by the visualization but enabled through the magic of Roundtrip."
   ]
  },
  {
   "cell_type": "code",
   "execution_count": null,
   "id": "b3c326b9",
   "metadata": {},
   "outputs": [],
   "source": [
    "climate_data = climate_data[climate_data['Continent'] == 'EU']"
   ]
  },
  {
   "cell_type": "code",
   "execution_count": null,
   "id": "12c40e36",
   "metadata": {},
   "outputs": [],
   "source": []
  }
 ],
 "metadata": {
  "kernelspec": {
   "display_name": "Python 3",
   "language": "python",
   "name": "python3"
  },
  "language_info": {
   "codemirror_mode": {
    "name": "ipython",
    "version": 3
   },
   "file_extension": ".py",
   "mimetype": "text/x-python",
   "name": "python",
   "nbconvert_exporter": "python",
   "pygments_lexer": "ipython3",
   "version": "3.8.10"
  }
 },
 "nbformat": 4,
 "nbformat_minor": 5
}
