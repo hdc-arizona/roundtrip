{
 "cells": [
  {
   "cell_type": "markdown",
   "metadata": {},
   "source": [
    "The javascript portion of the roundtrip library is loaded into the global scope when the 'examples' extension starts."
   ]
  },
  {
   "cell_type": "code",
   "execution_count": 1,
   "metadata": {},
   "outputs": [
    {
     "data": {
      "text/html": [
       "<script src='roundtrip.js'></script>"
      ],
      "text/plain": [
       "<IPython.core.display.HTML object>"
      ]
     },
     "metadata": {},
     "output_type": "display_data"
    },
    {
     "data": {
      "text/html": [
       "<script src='roundtrip.js'></script>"
      ],
      "text/plain": [
       "<IPython.core.display.HTML object>"
      ]
     },
     "metadata": {},
     "output_type": "display_data"
    },
    {
     "data": {
      "text/html": [
       "<script src='roundtrip.js'></script>"
      ],
      "text/plain": [
       "<IPython.core.display.HTML object>"
      ]
     },
     "metadata": {},
     "output_type": "display_data"
    },
    {
     "data": {
      "text/html": [
       "<script src='roundtrip.js'></script>"
      ],
      "text/plain": [
       "<IPython.core.display.HTML object>"
      ]
     },
     "metadata": {},
     "output_type": "display_data"
    }
   ],
   "source": [
    "import pandas as pd\n",
    "%load_ext examples"
   ]
  },
  {
   "cell_type": "code",
   "execution_count": 2,
   "metadata": {},
   "outputs": [],
   "source": [
    "string = \"Python String\"\n",
    "df = pd.DataFrame({\n",
    "        'vals':[1.0, 2.4, 3.1],\n",
    "        'categs':['metric1', 'metric2', 'metric3']\n",
    "})"
   ]
  },
  {
   "cell_type": "markdown",
   "metadata": {},
   "source": [
    "In the following example we show the two uses of the Roundtrip API. \n",
    "1. We show the explicit the explicit push pull by sending down a string and modifying it on the javascript side.\n",
    "2. The automatic binding will update other cells automatically. We modify the passed in dataframe data and send a request to update the ipython variable and all cells refrenceing it."
   ]
  },
  {
   "cell_type": "code",
   "execution_count": 3,
   "metadata": {
    "scrolled": false
   },
   "outputs": [
    {
     "data": {
      "text/html": [
       "<head>\n",
       "</head>\n",
       "<body>\n",
       "    <h3>Explicit Push-Pull Example</h3>\n",
       "        <div id=\"passed1\"></div>\n",
       "        <button id=\"demo\"> Click me to change data. </button>\n",
       "    <h3>Automatic Binding Example</h3>\n",
       "        <div id=\"bound1\"></div>\n",
       "        <button id=\"binding-demo\">Click me to confirm data change and show it reflected in another cell.</button>\n",
       "</body>"
      ],
      "text/plain": [
       "<IPython.core.display.HTML object>"
      ]
     },
     "metadata": {},
     "output_type": "display_data"
    },
    {
     "data": {
      "application/javascript": [
       "\n",
       " (function(){ window.Roundtrip['test'] = { 'two_way':'false', 'python_var':'', 'type':'str', 'data':'Python String'} })();\n"
      ],
      "text/plain": [
       "<IPython.core.display.Javascript object>"
      ]
     },
     "metadata": {},
     "output_type": "display_data"
    },
    {
     "data": {
      "application/javascript": [
       "\n",
       " (function(){ window.Roundtrip['test2'] = { 'two_way':'false', 'python_var':'', 'type':'int', 'data':'4'} })();\n"
      ],
      "text/plain": [
       "<IPython.core.display.Javascript object>"
      ]
     },
     "metadata": {},
     "output_type": "display_data"
    },
    {
     "data": {
      "application/javascript": [
       "\n",
       " (function(){ window.Roundtrip['js_df'] = { 'two_way':'true', 'python_var':'df', 'type':'pandas.core.frame.DataFrame', 'data':'{\"vals\":{\"0\":1.0,\"1\":2.4,\"2\":3.1},\"categs\":{\"0\":\"metric1\",\"1\":\"metric2\",\"2\":\"metric3\"}}'} })();\n"
      ],
      "text/plain": [
       "<IPython.core.display.Javascript object>"
      ]
     },
     "metadata": {},
     "output_type": "display_data"
    },
    {
     "data": {
      "application/javascript": [
       "(function(element){\n",
       "    require(['https://d3js.org/d3.v4.min.js'], function(d3) {\n",
       "        const Roundtrip = window.Roundtrip;\n",
       "        const elem = element[0].parentNode.parentNode;\n",
       "        const data = Roundtrip.test\n",
       "\n",
       "        const t = d3.select(elem).select('#passed1');\n",
       "        t.text(JSON.stringify(data));\n",
       "\n",
       "        d3.select(elem).select(\"#demo\").on(\"click\", function(){\n",
       "            Roundtrip.test = \"Modified in js code.\";\n",
       "            t.text(Roundtrip.test);\n",
       "        })\n",
       "\n",
       "        //it is reccomended to not work directly off the roundtrip\n",
       "        // object and instead work through a local variable\n",
       "        var df = JSON.parse(Roundtrip.js_df);\n",
       "        var pivot = [];\n",
       "\n",
       "        for (var cat in df.categs){\n",
       "            var tmp = {};\n",
       "            tmp.categ = df.categs[cat];\n",
       "            tmp.val = df.vals[cat];\n",
       "            pivot.push(tmp);\n",
       "        }\n",
       "\n",
       "        console.log(pivot);\n",
       "\n",
       "        var df_enter = d3.select(elem).select(\"#bound1\")\n",
       "            .selectAll(\".data-elem\")\n",
       "            .data(pivot)\n",
       "            .enter();\n",
       "\n",
       "        var line = df_enter.append(\"div\")\n",
       "                .attr(\"class\", \"data-elem\")\n",
       "                .style(\"margin-bottom\", '15px');\n",
       "        line.append(\"div\")\n",
       "                .text(d=>{return d.categ + \" \"});\n",
       "        line.append(\"input\")\n",
       "                    .attr(\"type\", \"text\")\n",
       "                    .attr(\"value\", d=>d.val)\n",
       "                    .on('change', function(d, i){\n",
       "                        df.vals[i.toString()] = parseFloat(d3.select(this).property(\"value\"));\n",
       "                    });\n",
       "\n",
       "        d3.select(elem).select(\"#binding-demo\")\n",
       "                    .on(\"click\", function(){\n",
       "                        console.log(JSON.stringify(df));\n",
       "                        Roundtrip.js_df = JSON.stringify(df);\n",
       "                    })\n",
       "        \n",
       "    })\n",
       "})(element);"
      ],
      "text/plain": [
       "<IPython.core.display.Javascript object>"
      ]
     },
     "metadata": {},
     "output_type": "display_data"
    }
   ],
   "source": [
    "%basic df string"
   ]
  },
  {
   "cell_type": "code",
   "execution_count": 4,
   "metadata": {},
   "outputs": [
    {
     "data": {
      "application/javascript": [
       "\n",
       "            (function(){\n",
       "                    var holder = Roundtrip['test'];\n",
       "                    holder = `'${holder}'`;\n",
       "                    var code = `x = ${holder}`;\n",
       "                    console.log(code);\n",
       "                    IPython.notebook.kernel.execute(code);\n",
       "                    })()\n",
       "               "
      ],
      "text/plain": [
       "<IPython.core.display.Javascript object>"
      ]
     },
     "metadata": {},
     "output_type": "display_data"
    }
   ],
   "source": [
    "%fetch_basic x"
   ]
  },
  {
   "cell_type": "code",
   "execution_count": 5,
   "metadata": {},
   "outputs": [
    {
     "name": "stdout",
     "output_type": "stream",
     "text": [
      "Modified in js code.\n"
     ]
    }
   ],
   "source": [
    "print(x)"
   ]
  },
  {
   "cell_type": "code",
   "execution_count": 8,
   "metadata": {},
   "outputs": [
    {
     "data": {
      "text/html": [
       "<head>\n",
       "</head>\n",
       "<body>\n",
       "    <h3>See changes from another cell reflected here.</h3>\n",
       "    <div id=\"disp\"></div>\n",
       "</body>"
      ],
      "text/plain": [
       "<IPython.core.display.HTML object>"
      ]
     },
     "metadata": {},
     "output_type": "display_data"
    },
    {
     "data": {
      "application/javascript": [
       "\n",
       " (function(){ window.Roundtrip['binding_df'] = { 'two_way':'true', 'python_var':'df', 'type':'pandas.core.frame.DataFrame', 'data':'{\"vals\":{\"0\":65,\"1\":24,\"2\":31},\"categs\":{\"0\":\"metric1\",\"1\":\"metric2\",\"2\":\"metric3\"}}'} })();\n"
      ],
      "text/plain": [
       "<IPython.core.display.Javascript object>"
      ]
     },
     "metadata": {},
     "output_type": "display_data"
    },
    {
     "data": {
      "application/javascript": [
       "(function(element){\n",
       "    require(['https://d3js.org/d3.v4.min.js'], function(d3) {\n",
       "        Roundtrip = window.Roundtrip;\n",
       "        var elem = element[0].parentNode.parentNode;\n",
       "        const svg = d3.select(elem).select('#disp')\n",
       "            .append(\"svg\")\n",
       "            .attr(\"width\", 500)\n",
       "            .attr(\"height\", 500);\n",
       "        \n",
       "        const data = JSON.parse(Roundtrip.binding_df);\n",
       "        var pivot = [];\n",
       "        var max = Number.MIN_VALUE;\n",
       "\n",
       "\n",
       "        for (var cat in data.categs){\n",
       "            var tmp = {};\n",
       "            tmp.categ = data.categs[cat];\n",
       "            tmp.val = data.vals[cat];\n",
       "            if(tmp.val > max){\n",
       "                max = tmp.val;\n",
       "            }\n",
       "            pivot.push(tmp);\n",
       "        }\n",
       "\n",
       "        var yscale = d3.scaleBand().domain(pivot.map(d=>{return d.categ})).range([425, 0]).padding(0.4);\n",
       "        var xscale = d3.scaleLinear().domain([0, max]).range([0,400]);\n",
       "\n",
       "        var x_axis = d3.axisBottom().scale(xscale);\n",
       "        var y_axis = d3.axisLeft().scale(yscale).tickFormat(d=>{return d});\n",
       "        \n",
       "        var left = 50;\n",
       "\n",
       "        svg.append(\"g\")\n",
       "            .attr(\"transform\", `translate(${left}, 440)`)\n",
       "            .call(x_axis);\n",
       "\n",
       "        svg.append(\"g\")\n",
       "            .attr(\"transform\", `translate(${left}, 15)`)\n",
       "            .call(y_axis);\n",
       "\n",
       "        svg.selectAll(\".bar\")\n",
       "            .data(pivot)\n",
       "            .enter()\n",
       "            .append(\"rect\")\n",
       "                .attr(\"class\", \"bar\")\n",
       "                .attr(\"width\", d=>xscale(d.val))\n",
       "                .attr(\"height\", 50)\n",
       "                .attr(\"fill\", \"#555599\")\n",
       "                .attr(\"x\", 15)\n",
       "                .attr(\"y\", (d,i)=>yscale(d.categ)+15)\n",
       "                .attr(\"transform\", `translate(${left-15}, 0)`);\n",
       "        \n",
       "\n",
       "    })\n",
       "})(element)"
      ],
      "text/plain": [
       "<IPython.core.display.Javascript object>"
      ]
     },
     "metadata": {},
     "output_type": "display_data"
    }
   ],
   "source": [
    "%binding_example df"
   ]
  },
  {
   "cell_type": "code",
   "execution_count": 9,
   "metadata": {},
   "outputs": [
    {
     "data": {
      "text/html": [
       "<!DOCTYPE html>\n",
       "<meta charset=\"utf-8\">\n",
       "<style>\n",
       "\n",
       "text {\n",
       "  font: 10px sans-serif;\n",
       "}\n",
       "\n",
       "rect.background {\n",
       "  fill: white;\n",
       "}\n",
       "\n",
       ".axis {\n",
       "  shape-rendering: crispEdges;\n",
       "}\n",
       "\n",
       ".axis path,\n",
       ".axis line {\n",
       "  fill: none;\n",
       "  stroke: #000;\n",
       "}\n",
       "\n",
       "</style>\n"
      ],
      "text/plain": [
       "<IPython.core.display.HTML object>"
      ]
     },
     "metadata": {},
     "output_type": "display_data"
    },
    {
     "data": {
      "application/javascript": [
       "\n",
       " (function(){ window.Roundtrip['data'] = { 'two_way':'false', 'python_var':'', 'type':'str', 'data':'Examples/source/BarGraph/barsdata.json'} })();\n"
      ],
      "text/plain": [
       "<IPython.core.display.Javascript object>"
      ]
     },
     "metadata": {},
     "output_type": "display_data"
    },
    {
     "data": {
      "application/javascript": [
       "(function(element) {\n",
       "    require(['https://d3js.org/d3.v5.min.js'], function(d3) {\n",
       "var margin = {top: 30, right: 120, bottom: 0, left: 120},\n",
       "    width = 960 - margin.left - margin.right,\n",
       "    height = 500 - margin.top - margin.bottom;\n",
       "\n",
       "var x = d3.scaleLinear()\n",
       "    .range([0, width]);\n",
       "\n",
       "var barHeight = 20;\n",
       "\n",
       "var color = d3.scaleOrdinal()\n",
       "    .range([\"steelblue\", \"#ccc\"]);\n",
       "\n",
       "var duration = 750,\n",
       "    delay = 25;\n",
       "\n",
       "var partition = d3.partition();\n",
       "\n",
       "\n",
       "var xAxis = d3.axisTop()\n",
       "    .scale(x);\n",
       "\n",
       "var svg = d3.select(element).append(\"svg\")\n",
       "    .attr(\"width\", width + margin.left + margin.right)\n",
       "    .attr(\"height\", height + margin.top + margin.bottom)\n",
       "  .append(\"g\")\n",
       "    .attr(\"transform\", \"translate(\" + margin.left + \",\" + margin.top + \")\");\n",
       "\n",
       "console.log(svg);\n",
       "\n",
       "svg.append(\"rect\")\n",
       "    .attr(\"class\", \"background\")\n",
       "    .attr(\"width\", width)\n",
       "    .attr(\"height\", height)\n",
       "    .on(\"click\", up);\n",
       "\n",
       "svg.append(\"g\")\n",
       "    .attr(\"class\", \"x axis\");\n",
       "\n",
       "svg.append(\"g\")\n",
       "    .attr(\"class\", \"y axis\")\n",
       "  .append(\"line\")\n",
       "    .attr(\"y1\", \"100%\");\n",
       "\n",
       "d3.json(Roundtrip.data).then(function(root) {\n",
       "    console.log(root);\n",
       "  root = d3.hierarchy(root)\n",
       "                .sum(d => d.size)\n",
       "                .sort((a,b) => b.value - a.value);\n",
       "\n",
       "  partition(root);\n",
       "  \n",
       "  x.domain([0, root.value]).nice();\n",
       "  down(root, 0);\n",
       "});\n",
       "\n",
       "function down(d, i) {\n",
       "//   if (!d.children || this.__transition__) return;\n",
       "  if (!d.children ) return;\n",
       "  var end = duration + d.children.length * delay;\n",
       "\n",
       "  // Mark any currently-displayed bars as exiting.\n",
       "  var exit = svg.selectAll(\".enter\")\n",
       "      .attr(\"class\", \"exit\");\n",
       "\n",
       "  // Entering nodes immediately obscure the clicked-on bar, so hide it.\n",
       "  exit.selectAll(\"rect\").filter(function(p) { return p === d; })\n",
       "      .style(\"fill-opacity\", 1e-6);\n",
       "\n",
       "  // Enter the new bars for the clicked-on data.\n",
       "  // Per above, entering bars are immediately visible.\n",
       "  var enter = bar(d)\n",
       "      .attr(\"transform\", stack(i))\n",
       "      .style(\"opacity\", 1);\n",
       "\n",
       "  // Have the text fade-in, even though the bars are visible.\n",
       "  // Color the bars as parents; they will fade to children if appropriate.\n",
       "  enter.select(\"text\").style(\"fill-opacity\", 1e-6);\n",
       "  enter.select(\"rect\").style(\"fill\", color(true));\n",
       "\n",
       "  // Update the x-scale domain.\n",
       "  x.domain([0, d3.max(d.children, function(d) { return d.value; })]).nice();\n",
       "\n",
       "  // Update the x-axis.\n",
       "  svg.selectAll(\".x.axis\").transition()\n",
       "      .duration(duration)\n",
       "      .call(xAxis);\n",
       "\n",
       "  // Transition entering bars to their new position.\n",
       "  var enterTransition = enter.transition()\n",
       "      .duration(duration)\n",
       "      .delay(function(d, i) { return i * delay; })\n",
       "      .attr(\"transform\", function(d, i) { return \"translate(0,\" + barHeight * i * 1.2 + \")\"; });\n",
       "\n",
       "  // Transition entering text.\n",
       "  enterTransition.select(\"text\")\n",
       "      .style(\"fill-opacity\", 1);\n",
       "\n",
       "  // Transition entering rects to the new x-scale.\n",
       "  enterTransition.select(\"rect\")\n",
       "      .attr(\"width\", function(d) { return x(d.value); })\n",
       "      .style(\"fill\", function(d) { return color(!!d.children); });\n",
       "\n",
       "  // Transition exiting bars to fade out.\n",
       "  var exitTransition = exit.transition()\n",
       "      .duration(duration)\n",
       "      .style(\"opacity\", 1e-6)\n",
       "      .remove();\n",
       "\n",
       "  // Transition exiting bars to the new x-scale.\n",
       "  exitTransition.selectAll(\"rect\")\n",
       "      .attr(\"width\", function(d) { return x(d.value); });\n",
       "\n",
       "  // Rebind the current node to the background.\n",
       "  svg.select(\".background\")\n",
       "      .datum(d)\n",
       "    .transition()\n",
       "      .duration(end);\n",
       "\n",
       "  d.index = i;\n",
       "}\n",
       "\n",
       "function up(d) {\n",
       "    if (!d.parent ) return;\n",
       "  var end = duration + d.children.length * delay;\n",
       "\n",
       "  // Mark any currently-displayed bars as exiting.\n",
       "  var exit = svg.selectAll(\".enter\")\n",
       "      .attr(\"class\", \"exit\");\n",
       "\n",
       "  // Enter the new bars for the clicked-on data's parent.\n",
       "  var enter = bar(d.parent)\n",
       "      .attr(\"transform\", function(d, i) { return \"translate(0,\" + barHeight * i * 1.2 + \")\"; })\n",
       "      .style(\"opacity\", 1e-6);\n",
       "\n",
       "  // Color the bars as appropriate.\n",
       "  // Exiting nodes will obscure the parent bar, so hide it.\n",
       "  enter.select(\"rect\")\n",
       "      .style(\"fill\", function(d) { return color(!!d.children); })\n",
       "    .filter(function(p) { return p === d; })\n",
       "      .style(\"fill-opacity\", 1e-6);\n",
       "\n",
       "  // Update the x-scale domain.\n",
       "  x.domain([0, d3.max(d.parent.children, function(d) { return d.value; })]).nice();\n",
       "\n",
       "  // Update the x-axis.\n",
       "  svg.selectAll(\".x.axis\").transition()\n",
       "      .duration(duration)\n",
       "      .call(xAxis);\n",
       "\n",
       "  // Transition entering bars to fade in over the full duration.\n",
       "  var enterTransition = enter.transition()\n",
       "      .duration(end)\n",
       "      .style(\"opacity\", 1);\n",
       "\n",
       "  // Transition entering rects to the new x-scale.\n",
       "  // When the entering parent rect is done, make it visible!\n",
       "  enterTransition.select(\"rect\")\n",
       "      .attr(\"width\", function(d) { return x(d.value); })\n",
       "      .on(\"end\",function(p) { if (p === d) d3.select(this).style(\"fill-opacity\", null); });\n",
       "\n",
       "  // Transition exiting bars to the parent's position.\n",
       "  var exitTransition = exit.selectAll(\"g\").transition()\n",
       "      .duration(duration)\n",
       "      .delay(function(d, i) { return i * delay; })\n",
       "      .attr(\"transform\", stack(d.index));\n",
       "\n",
       "  // Transition exiting text to fade out.\n",
       "  exitTransition.select(\"text\")\n",
       "      .style(\"fill-opacity\", 1e-6);\n",
       "\n",
       "  // Transition exiting rects to the new scale and fade to parent color.\n",
       "  exitTransition.select(\"rect\")\n",
       "      .attr(\"width\", function(d) { return x(d.value); })\n",
       "      .style(\"fill\", color(true));\n",
       "\n",
       "  // Remove exiting nodes when the last child has finished transitioning.\n",
       "  exit.transition()\n",
       "      .duration(end)\n",
       "      .remove();\n",
       "\n",
       "  // Rebind the current parent to the background.\n",
       "  svg.select(\".background\")\n",
       "      .datum(d.parent)\n",
       "    .transition()\n",
       "      .duration(end);\n",
       "}\n",
       "\n",
       "// Creates a set of bars for the given data node, at the specified index.\n",
       "function bar(d) {\n",
       "  var bar = svg.insert(\"g\", \".y.axis\")\n",
       "      .attr(\"class\", \"enter\")\n",
       "      .attr(\"transform\", \"translate(0,5)\")\n",
       "    .selectAll(\"g\")\n",
       "      .data(d.children)\n",
       "    .enter().append(\"g\")\n",
       "      .style(\"cursor\", function(d) { return !d.children ? null : \"pointer\"; })\n",
       "      .on(\"click\", down);\n",
       "\n",
       "  bar.append(\"text\")\n",
       "      .attr(\"x\", -6)\n",
       "      .attr(\"y\", barHeight / 2)\n",
       "      .attr(\"dy\", \".35em\")\n",
       "      .style(\"text-anchor\", \"end\")\n",
       "      .text(function(d) { return d.data.name; });\n",
       "\n",
       "  bar.append(\"rect\")\n",
       "      .attr(\"width\", function(d) { return x(d.value); })\n",
       "      .attr(\"height\", barHeight);\n",
       "\n",
       "  return bar;\n",
       "}\n",
       "\n",
       "// A stateful closure for stacking bars horizontally.\n",
       "function stack(i) {\n",
       "  var x0 = 0;\n",
       "  return function(d) {\n",
       "    var tx = \"translate(\" + x0 + \",\" + barHeight * i * 1.2 + \")\";\n",
       "    x0 += x(d.value);\n",
       "    return tx;\n",
       "  };\n",
       "}\n",
       "\n",
       "\n",
       "})\n",
       "})(element[0]);\n"
      ],
      "text/plain": [
       "<IPython.core.display.Javascript object>"
      ]
     },
     "metadata": {},
     "output_type": "display_data"
    }
   ],
   "source": [
    "%bargraph"
   ]
  },
  {
   "cell_type": "code",
   "execution_count": null,
   "metadata": {},
   "outputs": [],
   "source": [
    "# %basic df mode=lock updates= automatic updates=manual"
   ]
  },
  {
   "cell_type": "code",
   "execution_count": null,
   "metadata": {},
   "outputs": [],
   "source": [
    "# %fetch_basic x"
   ]
  },
  {
   "cell_type": "code",
   "execution_count": null,
   "metadata": {},
   "outputs": [],
   "source": [
    "# print(x)"
   ]
  },
  {
   "cell_type": "code",
   "execution_count": null,
   "metadata": {},
   "outputs": [],
   "source": [
    "# %watch-scatterplot-selection select \n",
    "# %watch-scatteplot-x"
   ]
  },
  {
   "cell_type": "code",
   "execution_count": null,
   "metadata": {},
   "outputs": [],
   "source": [
    "# mode=lock updates= automatic updates=manual"
   ]
  }
 ],
 "metadata": {
  "kernelspec": {
   "display_name": "Python 3",
   "language": "python",
   "name": "python3"
  },
  "language_info": {
   "codemirror_mode": {
    "name": "ipython",
    "version": 3
   },
   "file_extension": ".py",
   "mimetype": "text/x-python",
   "name": "python",
   "nbconvert_exporter": "python",
   "pygments_lexer": "ipython3",
   "version": "3.8.10"
  }
 },
 "nbformat": 4,
 "nbformat_minor": 4
}
