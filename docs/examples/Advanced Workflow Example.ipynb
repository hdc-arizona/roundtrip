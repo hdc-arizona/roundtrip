{
 "cells": [
  {
   "cell_type": "code",
   "execution_count": null,
   "id": "6854717b",
   "metadata": {},
   "outputs": [],
   "source": [
    "import pandas as pd\n",
    "import json\n",
    "import os, sys\n",
    "import pycountry_convert as pc\n",
    "\n",
    "\n",
    "#using gross syntax for relative import; will be fixed with packaging and bundling\n",
    "example_code = '../../roundtrip/example_code/'\n",
    "\n",
    "\n",
    "# This is the relative path from the notebook to our vis extensions\n",
    "vis_path = os.path.join(example_code, 'magics_source')\n",
    "\n",
    "# Add the path so that the notebook can find the Roundtrip extension\n",
    "module_path = os.path.abspath(os.path.join(vis_path)) \n",
    "if module_path not in sys.path:\n",
    "    sys.path.append(module_path)\n",
    "\n",
    "%load_ext scatter\n",
    "%load_ext table"
   ]
  },
  {
   "cell_type": "markdown",
   "id": "2a9706b3",
   "metadata": {},
   "source": [
    "## More Complex and Dynamic Workflows with `?` operator"
   ]
  },
  {
   "cell_type": "markdown",
   "id": "23ebf426",
   "metadata": {},
   "source": [
    "### Automatic passing of javascript updatesbetween multiple views"
   ]
  },
  {
   "cell_type": "markdown",
   "id": "c0970b7e",
   "metadata": {},
   "source": [
    "We load data like we did before."
   ]
  },
  {
   "cell_type": "code",
   "execution_count": null,
   "id": "f3b464d0",
   "metadata": {},
   "outputs": [],
   "source": [
    "dataset = pd.read_csv(os.path.join(example_code, 'data/Electricity_Production_By_Source.csv'))\n",
    "vis_in = dataset.groupby(['Entity']).max().reset_index()\n",
    "\n",
    "\n",
    "def getContinent(row):\n",
    "    try:\n",
    "        c_code = pc.country_name_to_country_alpha2(row['Entity'], cn_name_format='default')\n",
    "        return pc.country_alpha2_to_continent_code(c_code)\n",
    "    except:\n",
    "        return 'OTH'\n",
    "\n",
    "vis_in['Continent'] = vis_in.apply(getContinent, axis=1)"
   ]
  },
  {
   "cell_type": "markdown",
   "id": "be265a36",
   "metadata": {},
   "source": [
    "In the following cell you will see that the visualization developer provided an optional second argument to our scatterplot `out`. You will also see that this argument has a new operator `?`.\n",
    "\n",
    "The `?` operator is provided by roundtrip to allow users the freedom to define Jupyter variables that they would like to act like 'passed by refrence' variables and auto-update when changed elsewhere in the notebook.\n",
    "\n",
    "A visualization developer may disable this two way binding if they so choose. In the `scatter_plt` is it optional for both our variables `vis_in` and `out`."
   ]
  },
  {
   "cell_type": "code",
   "execution_count": null,
   "id": "a47a18e0",
   "metadata": {
    "scrolled": false
   },
   "outputs": [],
   "source": [
    "%scatter_plt vis_in ?subselect"
   ]
  },
  {
   "cell_type": "markdown",
   "id": "3e3dd85f",
   "metadata": {},
   "source": [
    "Because `out` is bound with the `?` operator, selections made in the above plot will be automatically reflected in the following cell after it has been run at least once."
   ]
  },
  {
   "cell_type": "code",
   "execution_count": null,
   "id": "cad1280d",
   "metadata": {
    "scrolled": true
   },
   "outputs": [],
   "source": [
    "%show_table ?subselect"
   ]
  },
  {
   "cell_type": "code",
   "execution_count": null,
   "id": "c0448f91",
   "metadata": {},
   "outputs": [],
   "source": [
    "%scatter_plt ?subselect ?subsubselect"
   ]
  },
  {
   "cell_type": "code",
   "execution_count": null,
   "id": "cab7f651",
   "metadata": {},
   "outputs": [],
   "source": [
    "%show_table ?subsubselect"
   ]
  },
  {
   "cell_type": "markdown",
   "id": "a709c666",
   "metadata": {},
   "source": [
    "### Automatic updating of RT visualizations on jupyter variables change"
   ]
  },
  {
   "cell_type": "markdown",
   "id": "8cb092b8",
   "metadata": {},
   "source": [
    "Here we define our dataset once again and visualize it."
   ]
  },
  {
   "cell_type": "code",
   "execution_count": null,
   "id": "978154a8",
   "metadata": {},
   "outputs": [],
   "source": [
    "dataset = pd.read_csv(os.path.join(example_code, 'data/Electricity_Production_By_Source.csv'))\n",
    "climate_data = dataset.groupby(['Entity']).max().reset_index()\n",
    "\n",
    "\n",
    "def getContinent(row):\n",
    "    try:\n",
    "        c_code = pc.country_name_to_country_alpha2(row['Entity'], cn_name_format='default')\n",
    "        return pc.country_alpha2_to_continent_code(c_code)\n",
    "    except:\n",
    "        return 'OTH'\n",
    "\n",
    "climate_data['Continent'] = climate_data.apply(getContinent, axis=1)"
   ]
  },
  {
   "cell_type": "code",
   "execution_count": null,
   "id": "ee7cdd51",
   "metadata": {},
   "outputs": [],
   "source": [
    "%scatter_plt ?climate_data ?selection"
   ]
  },
  {
   "cell_type": "code",
   "execution_count": null,
   "id": "3a4add89",
   "metadata": {},
   "outputs": [],
   "source": [
    "%show_table ?selection"
   ]
  },
  {
   "cell_type": "markdown",
   "id": "95a31b3f",
   "metadata": {},
   "source": [
    "To get rid of some of our \"garbage\" data programatically, we can filter out all the data assocaited with the `oth` Continent. Because we have specified `climate_data` to auto-update above, we will see the `scatter_plt` reload with our new `climate_data`."
   ]
  },
  {
   "cell_type": "code",
   "execution_count": null,
   "id": "cab36dd8",
   "metadata": {},
   "outputs": [],
   "source": [
    "climate_data = climate_data[climate_data['Continent'] != 'OTH']"
   ]
  },
  {
   "cell_type": "markdown",
   "id": "4b006e20",
   "metadata": {},
   "source": [
    "We can also do other interesting things like filter to only get data from Europe. These manipulations are not supported by the visualization but enabled through the magic of Roundtrip."
   ]
  },
  {
   "cell_type": "code",
   "execution_count": null,
   "id": "b3c326b9",
   "metadata": {},
   "outputs": [],
   "source": [
    "climate_data = climate_data[climate_data['Continent'] == 'EU']"
   ]
  },
  {
   "cell_type": "code",
   "execution_count": null,
   "id": "12c40e36",
   "metadata": {},
   "outputs": [],
   "source": []
  }
 ],
 "metadata": {
  "kernelspec": {
   "display_name": "Python 3",
   "language": "python",
   "name": "python3"
  },
  "language_info": {
   "codemirror_mode": {
    "name": "ipython",
    "version": 3
   },
   "file_extension": ".py",
   "mimetype": "text/x-python",
   "name": "python",
   "nbconvert_exporter": "python",
   "pygments_lexer": "ipython3",
   "version": "3.8.10"
  }
 },
 "nbformat": 4,
 "nbformat_minor": 5
}
