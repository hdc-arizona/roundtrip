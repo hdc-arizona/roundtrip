{
 "cells": [
  {
   "cell_type": "code",
   "execution_count": 1,
   "metadata": {},
   "outputs": [
    {
     "name": "stderr",
     "output_type": "stream",
     "text": [
      "UsageError: Line magic function `%webpack_example` not found.\n"
     ]
    }
   ],
   "source": [
    "%webpack_example"
   ]
  },
  {
   "cell_type": "markdown",
   "metadata": {},
   "source": [
    "The javascript portion of the roundtrip library is loaded into the global scope when the 'examples' extension starts."
   ]
  },
  {
   "cell_type": "code",
   "execution_count": 1,
   "metadata": {},
   "outputs": [
    {
     "data": {
      "text/html": [
       "<script src='roundtrip.js'></script>"
      ],
      "text/plain": [
       "<IPython.core.display.HTML object>"
      ]
     },
     "metadata": {},
     "output_type": "display_data"
    }
   ],
   "source": [
    "import pandas as pd\n",
    "%load_ext examples"
   ]
  },
  {
   "cell_type": "code",
   "execution_count": 37,
   "metadata": {},
   "outputs": [
    {
     "data": {
      "application/javascript": [
       "\n",
       " (function(){window.Roundtrip['binding_df'] = '{\"vals\":{\"0\":111.0,\"1\":620.0,\"2\":51.0},\"categs\":{\"0\":\"metric1\",\"1\":\"metric2\",\"2\":\"metric3\"}}';})();\n"
      ],
      "text/plain": [
       "<IPython.core.display.Javascript object>"
      ]
     },
     "metadata": {},
     "output_type": "display_data"
    }
   ],
   "source": [
    "df = pd.DataFrame({\n",
    "        'vals':[111.0, 620, 51],\n",
    "        'categs':['metric1', 'metric2', 'metric3']\n",
    "})\n"
   ]
  },
  {
   "cell_type": "markdown",
   "metadata": {},
   "source": [
    "In the following example we show the two uses of the Roundtrip API. \n",
    "1. We show the explicit the explicit push pull by sending down a string and modifying it on the javascript side.\n",
    "2. The automatic binding will update other cells automatically. We modify the passed in dataframe data and send a request to update the ipython variable and all cells refrenceing it."
   ]
  },
  {
   "cell_type": "code",
   "execution_count": null,
   "metadata": {},
   "outputs": [],
   "source": [
    "dataset"
   ]
  },
  {
   "cell_type": "code",
   "execution_count": 38,
   "metadata": {
    "scrolled": false
   },
   "outputs": [
    {
     "data": {
      "text/html": [
       "<head>\n",
       "</head>\n",
       "<body>\n",
       "    <h3>Explicit Push-Pull Example</h3>\n",
       "        <div id=\"passed1\"></div>\n",
       "        <button id=\"demo\"> Click me to change data. </button>\n",
       "    <h3>Automatic Binding Example</h3>\n",
       "        <div id=\"bound1\"></div>\n",
       "        <button id=\"binding-demo\">Click me to confirm data change and show it reflected in another cell.</button>\n",
       "</body>"
      ],
      "text/plain": [
       "<IPython.core.display.HTML object>"
      ]
     },
     "metadata": {},
     "output_type": "display_data"
    },
    {
     "name": "stdout",
     "output_type": "stream",
     "text": [
      "['?df', 'string']\n"
     ]
    },
    {
     "data": {
      "application/javascript": [
       "\n",
       " (function(){ \n",
       "            window.Roundtrip['test'] = { \n",
       "            'two_way':'false',\n",
       "            'python_var':'string', \n",
       "            'type':'str', \n",
       "            'data':'Python String', \n",
       "            'converter':null, } \n",
       "        })();\n"
      ],
      "text/plain": [
       "<IPython.core.display.Javascript object>"
      ]
     },
     "metadata": {},
     "output_type": "display_data"
    },
    {
     "data": {
      "application/javascript": [
       "\n",
       " (function(){ \n",
       "            window.Roundtrip['test_2'] = { \n",
       "            'two_way':'false',\n",
       "            'python_var':'', \n",
       "            'type':'int', \n",
       "            'data':'4', \n",
       "            'converter':null, } \n",
       "        })();\n"
      ],
      "text/plain": [
       "<IPython.core.display.Javascript object>"
      ]
     },
     "metadata": {},
     "output_type": "display_data"
    },
    {
     "data": {
      "application/javascript": [
       "\n",
       " (function(){ \n",
       "            window.Roundtrip['js_df'] = { \n",
       "            'two_way':'true',\n",
       "            'python_var':'df', \n",
       "            'type':'pandas.core.frame.DataFrame', \n",
       "            'data':'{\"vals\":{\"0\":111.0,\"1\":620.0,\"2\":51.0},\"categs\":{\"0\":\"metric1\",\"1\":\"metric2\",\"2\":\"metric3\"}}', \n",
       "            'converter':{\"name\": \"_from_js\", \"code\": \"def _from_js(data):\\n    return pd.DataFrame(data)\\n\"}, } \n",
       "        })();\n"
      ],
      "text/plain": [
       "<IPython.core.display.Javascript object>"
      ]
     },
     "metadata": {},
     "output_type": "display_data"
    },
    {
     "data": {
      "application/javascript": [
       "(function(element){\n",
       "    require(['https://d3js.org/d3.v4.min.js'], function(d3) {\n",
       "        const Roundtrip = window.Roundtrip;\n",
       "        const elem = element[0].parentNode.parentNode;\n",
       "        const data = Roundtrip.test\n",
       "\n",
       "        const t = d3.select(elem).select('#passed1');\n",
       "        t.text(JSON.stringify(data));\n",
       "\n",
       "        d3.select(elem).select(\"#demo\").on(\"click\", function(){\n",
       "            Roundtrip.test = \"Modified in js code.\";\n",
       "            t.text(Roundtrip.test);\n",
       "        })\n",
       "\n",
       "        //it is reccomended to not work directly off the roundtrip\n",
       "        // object and instead work through a local variable\n",
       "        var df = JSON.parse(Roundtrip.js_df);\n",
       "        var pivot = [];\n",
       "\n",
       "        for (var cat in df.categs){\n",
       "            var tmp = {};\n",
       "            tmp.categ = df.categs[cat];\n",
       "            tmp.val = df.vals[cat];\n",
       "            pivot.push(tmp);\n",
       "        }\n",
       "\n",
       "        console.log(pivot);\n",
       "\n",
       "        var df_enter = d3.select(elem).select(\"#bound1\")\n",
       "            .selectAll(\".data-elem\")\n",
       "            .data(pivot)\n",
       "            .enter();\n",
       "\n",
       "        var line = df_enter.append(\"div\")\n",
       "                .attr(\"class\", \"data-elem\")\n",
       "                .style(\"margin-bottom\", '15px');\n",
       "        line.append(\"div\")\n",
       "                .text(d=>{return d.categ + \" \"});\n",
       "        line.append(\"input\")\n",
       "                    .attr(\"type\", \"text\")\n",
       "                    .attr(\"value\", d=>d.val)\n",
       "                    .on('change', function(d, i){\n",
       "                        df.vals[i.toString()] = parseFloat(d3.select(this).property(\"value\"));\n",
       "                    });\n",
       "\n",
       "        d3.select(elem).select(\"#binding-demo\")\n",
       "                    .on(\"click\", function(){\n",
       "                        console.log(JSON.stringify(df));\n",
       "                        Roundtrip.js_df = JSON.stringify(df);\n",
       "                    })\n",
       "        \n",
       "    })\n",
       "})(element);"
      ],
      "text/plain": [
       "<IPython.core.display.Javascript object>"
      ]
     },
     "metadata": {},
     "output_type": "display_data"
    }
   ],
   "source": [
    "%basic ?df string"
   ]
  },
  {
   "cell_type": "code",
   "execution_count": 39,
   "metadata": {},
   "outputs": [
    {
     "data": {
      "text/html": [
       "<head>\n",
       "</head>\n",
       "<body>\n",
       "    <h3>See changes from another cell reflected here.</h3>\n",
       "    <div id=\"disp\"></div>\n",
       "</body>"
      ],
      "text/plain": [
       "<IPython.core.display.HTML object>"
      ]
     },
     "metadata": {},
     "output_type": "display_data"
    },
    {
     "data": {
      "application/javascript": [
       "\n",
       " (function(){ \n",
       "            window.Roundtrip['binding_df'] = { \n",
       "            'two_way':'true',\n",
       "            'python_var':'df', \n",
       "            'type':'pandas.core.frame.DataFrame', \n",
       "            'data':'{\"vals\":{\"0\":111.0,\"1\":620.0,\"2\":51.0},\"categs\":{\"0\":\"metric1\",\"1\":\"metric2\",\"2\":\"metric3\"}}', \n",
       "            'converter':{\"name\": \"_from_js\", \"code\": \"def _from_js(data):\\n    return pd.DataFrame(data)\\n\"}, } \n",
       "        })();\n"
      ],
      "text/plain": [
       "<IPython.core.display.Javascript object>"
      ]
     },
     "metadata": {},
     "output_type": "display_data"
    },
    {
     "data": {
      "application/javascript": [
       "(function(element){\n",
       "    require(['https://d3js.org/d3.v4.min.js'], function(d3) {\n",
       "        Roundtrip = window.Roundtrip;\n",
       "        var elem = element[0].parentNode.parentNode;\n",
       "        const svg = d3.select(elem).select('#disp')\n",
       "            .append(\"svg\")\n",
       "            .attr(\"width\", 500)\n",
       "            .attr(\"height\", 500);\n",
       "        \n",
       "        const data = JSON.parse(Roundtrip.binding_df);\n",
       "        var pivot = [];\n",
       "        var max = Number.MIN_VALUE;\n",
       "\n",
       "\n",
       "        for (var cat in data.categs){\n",
       "            var tmp = {};\n",
       "            tmp.categ = data.categs[cat];\n",
       "            tmp.val = data.vals[cat];\n",
       "            if(tmp.val > max){\n",
       "                max = tmp.val;\n",
       "            }\n",
       "            pivot.push(tmp);\n",
       "        }\n",
       "\n",
       "        var yscale = d3.scaleBand().domain(pivot.map(d=>{return d.categ})).range([425, 0]).padding(0.4);\n",
       "        var xscale = d3.scaleLinear().domain([0, max]).range([0,400]);\n",
       "\n",
       "        var x_axis = d3.axisBottom().scale(xscale);\n",
       "        var y_axis = d3.axisLeft().scale(yscale).tickFormat(d=>{return d});\n",
       "        \n",
       "        var left = 50;\n",
       "\n",
       "        svg.append(\"g\")\n",
       "            .attr(\"transform\", `translate(${left}, 440)`)\n",
       "            .call(x_axis);\n",
       "\n",
       "        svg.append(\"g\")\n",
       "            .attr(\"transform\", `translate(${left}, 15)`)\n",
       "            .call(y_axis);\n",
       "\n",
       "        svg.selectAll(\".bar\")\n",
       "            .data(pivot)\n",
       "            .enter()\n",
       "            .append(\"rect\")\n",
       "                .attr(\"class\", \"bar\")\n",
       "                .attr(\"width\", d=>xscale(d.val))\n",
       "                .attr(\"height\", 50)\n",
       "                .attr(\"fill\", \"#555599\")\n",
       "                .attr(\"x\", 15)\n",
       "                .attr(\"y\", (d,i)=>yscale(d.categ)+15)\n",
       "                .attr(\"transform\", `translate(${left-15}, 0)`);\n",
       "        \n",
       "\n",
       "    })\n",
       "})(element)"
      ],
      "text/plain": [
       "<IPython.core.display.Javascript object>"
      ]
     },
     "metadata": {},
     "output_type": "display_data"
    }
   ],
   "source": [
    "%binding_example ?df"
   ]
  },
  {
   "cell_type": "code",
   "execution_count": 11,
   "metadata": {},
   "outputs": [
    {
     "data": {
      "text/html": [
       "<div>\n",
       "<style scoped>\n",
       "    .dataframe tbody tr th:only-of-type {\n",
       "        vertical-align: middle;\n",
       "    }\n",
       "\n",
       "    .dataframe tbody tr th {\n",
       "        vertical-align: top;\n",
       "    }\n",
       "\n",
       "    .dataframe thead th {\n",
       "        text-align: right;\n",
       "    }\n",
       "</style>\n",
       "<table border=\"1\" class=\"dataframe\">\n",
       "  <thead>\n",
       "    <tr style=\"text-align: right;\">\n",
       "      <th></th>\n",
       "      <th>vals</th>\n",
       "      <th>categs</th>\n",
       "    </tr>\n",
       "  </thead>\n",
       "  <tbody>\n",
       "    <tr>\n",
       "      <th>0</th>\n",
       "      <td>111</td>\n",
       "      <td>metric1</td>\n",
       "    </tr>\n",
       "    <tr>\n",
       "      <th>1</th>\n",
       "      <td>620</td>\n",
       "      <td>metric4</td>\n",
       "    </tr>\n",
       "    <tr>\n",
       "      <th>2</th>\n",
       "      <td>510</td>\n",
       "      <td>metric3</td>\n",
       "    </tr>\n",
       "  </tbody>\n",
       "</table>\n",
       "</div>"
      ],
      "text/plain": [
       "   vals   categs\n",
       "0   111  metric1\n",
       "1   620  metric4\n",
       "2   510  metric3"
      ]
     },
     "execution_count": 11,
     "metadata": {},
     "output_type": "execute_result"
    }
   ],
   "source": [
    "df"
   ]
  },
  {
   "cell_type": "code",
   "execution_count": 6,
   "metadata": {},
   "outputs": [
    {
     "data": {
      "application/javascript": [
       "\n",
       "            (function(){\n",
       "                    var holder = Roundtrip['test'];\n",
       "                    holder = `'${holder}'`;\n",
       "                    var code = `x = ${holder}`;\n",
       "                    console.log(code);\n",
       "                    IPython.notebook.kernel.execute(code);\n",
       "                    })()\n",
       "               "
      ],
      "text/plain": [
       "<IPython.core.display.Javascript object>"
      ]
     },
     "metadata": {},
     "output_type": "display_data"
    }
   ],
   "source": [
    "%fetch_basic x"
   ]
  },
  {
   "cell_type": "code",
   "execution_count": 7,
   "metadata": {},
   "outputs": [
    {
     "name": "stdout",
     "output_type": "stream",
     "text": [
      "Python String\n"
     ]
    }
   ],
   "source": [
    "print(x)"
   ]
  },
  {
   "cell_type": "code",
   "execution_count": 40,
   "metadata": {},
   "outputs": [
    {
     "data": {
      "text/html": [
       "<head>\n",
       "</head>\n",
       "<body>\n",
       "    <h3>See changes from another cell reflected here.</h3>\n",
       "    <div id=\"disp\"></div>\n",
       "</body>"
      ],
      "text/plain": [
       "<IPython.core.display.HTML object>"
      ]
     },
     "metadata": {},
     "output_type": "display_data"
    },
    {
     "data": {
      "application/javascript": [
       "\n",
       " (function(){ \n",
       "            window.Roundtrip['binding_df'] = { \n",
       "            'two_way':'true',\n",
       "            'python_var':'df', \n",
       "            'type':'pandas.core.frame.DataFrame', \n",
       "            'data':'{\"vals\":{\"0\":111.0,\"1\":620.0,\"2\":51.0},\"categs\":{\"0\":\"metric1\",\"1\":\"metric2\",\"2\":\"metric3\"}}', \n",
       "            'converter':{\"name\": \"_from_js\", \"code\": \"def _from_js(data):\\n    return pd.DataFrame(data)\\n\"}, } \n",
       "        })();\n"
      ],
      "text/plain": [
       "<IPython.core.display.Javascript object>"
      ]
     },
     "metadata": {},
     "output_type": "display_data"
    },
    {
     "data": {
      "application/javascript": [
       "(function(element){\n",
       "    require(['https://d3js.org/d3.v4.min.js'], function(d3) {\n",
       "        Roundtrip = window.Roundtrip;\n",
       "        var elem = element[0].parentNode.parentNode;\n",
       "        const svg = d3.select(elem).select('#disp')\n",
       "            .append(\"svg\")\n",
       "            .attr(\"width\", 500)\n",
       "            .attr(\"height\", 500);\n",
       "        \n",
       "        const data = JSON.parse(Roundtrip.binding_df);\n",
       "        var pivot = [];\n",
       "        var max = Number.MIN_VALUE;\n",
       "\n",
       "\n",
       "        for (var cat in data.categs){\n",
       "            var tmp = {};\n",
       "            tmp.categ = data.categs[cat];\n",
       "            tmp.val = data.vals[cat];\n",
       "            if(tmp.val > max){\n",
       "                max = tmp.val;\n",
       "            }\n",
       "            pivot.push(tmp);\n",
       "        }\n",
       "\n",
       "        var yscale = d3.scaleBand().domain(pivot.map(d=>{return d.categ})).range([425, 0]).padding(0.4);\n",
       "        var xscale = d3.scaleLinear().domain([0, max]).range([0,400]);\n",
       "\n",
       "        var x_axis = d3.axisBottom().scale(xscale);\n",
       "        var y_axis = d3.axisLeft().scale(yscale).tickFormat(d=>{return d});\n",
       "        \n",
       "        var left = 50;\n",
       "\n",
       "        svg.append(\"g\")\n",
       "            .attr(\"transform\", `translate(${left}, 440)`)\n",
       "            .call(x_axis);\n",
       "\n",
       "        svg.append(\"g\")\n",
       "            .attr(\"transform\", `translate(${left}, 15)`)\n",
       "            .call(y_axis);\n",
       "\n",
       "        svg.selectAll(\".bar\")\n",
       "            .data(pivot)\n",
       "            .enter()\n",
       "            .append(\"rect\")\n",
       "                .attr(\"class\", \"bar\")\n",
       "                .attr(\"width\", d=>xscale(d.val))\n",
       "                .attr(\"height\", 50)\n",
       "                .attr(\"fill\", \"#555599\")\n",
       "                .attr(\"x\", 15)\n",
       "                .attr(\"y\", (d,i)=>yscale(d.categ)+15)\n",
       "                .attr(\"transform\", `translate(${left-15}, 0)`);\n",
       "        \n",
       "\n",
       "    })\n",
       "})(element)"
      ],
      "text/plain": [
       "<IPython.core.display.Javascript object>"
      ]
     },
     "metadata": {},
     "output_type": "display_data"
    }
   ],
   "source": [
    "%binding_example ?df"
   ]
  },
  {
   "cell_type": "code",
   "execution_count": 17,
   "metadata": {},
   "outputs": [
    {
     "data": {
      "text/html": [
       "<!DOCTYPE html>\n",
       "<meta charset=\"utf-8\">\n",
       "<style>\n",
       "\n",
       "text {\n",
       "  font: 10px sans-serif;\n",
       "}\n",
       "\n",
       "rect.background {\n",
       "  fill: white;\n",
       "}\n",
       "\n",
       ".axis {\n",
       "  shape-rendering: crispEdges;\n",
       "}\n",
       "\n",
       ".axis path,\n",
       ".axis line {\n",
       "  fill: none;\n",
       "  stroke: #000;\n",
       "}\n",
       "\n",
       "</style>\n"
      ],
      "text/plain": [
       "<IPython.core.display.HTML object>"
      ]
     },
     "metadata": {},
     "output_type": "display_data"
    },
    {
     "data": {
      "application/javascript": [
       "\n",
       " (function(){ \n",
       "            window.Roundtrip['data'] = { \n",
       "            'two_way':'false',\n",
       "            'python_var':'', \n",
       "            'type':'str', \n",
       "            'data':'Examples/source/BarGraph/barsdata.json', \n",
       "            'converter':null, } \n",
       "        })();\n"
      ],
      "text/plain": [
       "<IPython.core.display.Javascript object>"
      ]
     },
     "metadata": {},
     "output_type": "display_data"
    },
    {
     "data": {
      "application/javascript": [
       "(function(element) {\n",
       "    require(['https://d3js.org/d3.v5.min.js'], function(d3) {\n",
       "var margin = {top: 30, right: 120, bottom: 0, left: 120},\n",
       "    width = 960 - margin.left - margin.right,\n",
       "    height = 500 - margin.top - margin.bottom;\n",
       "\n",
       "var x = d3.scaleLinear()\n",
       "    .range([0, width]);\n",
       "\n",
       "var barHeight = 20;\n",
       "\n",
       "var color = d3.scaleOrdinal()\n",
       "    .range([\"steelblue\", \"#ccc\"]);\n",
       "\n",
       "var duration = 750,\n",
       "    delay = 25;\n",
       "\n",
       "var partition = d3.partition();\n",
       "\n",
       "\n",
       "var xAxis = d3.axisTop()\n",
       "    .scale(x);\n",
       "\n",
       "var svg = d3.select(element).append(\"svg\")\n",
       "    .attr(\"width\", width + margin.left + margin.right)\n",
       "    .attr(\"height\", height + margin.top + margin.bottom)\n",
       "  .append(\"g\")\n",
       "    .attr(\"transform\", \"translate(\" + margin.left + \",\" + margin.top + \")\");\n",
       "\n",
       "console.log(svg);\n",
       "\n",
       "svg.append(\"rect\")\n",
       "    .attr(\"class\", \"background\")\n",
       "    .attr(\"width\", width)\n",
       "    .attr(\"height\", height)\n",
       "    .on(\"click\", up);\n",
       "\n",
       "svg.append(\"g\")\n",
       "    .attr(\"class\", \"x axis\");\n",
       "\n",
       "svg.append(\"g\")\n",
       "    .attr(\"class\", \"y axis\")\n",
       "  .append(\"line\")\n",
       "    .attr(\"y1\", \"100%\");\n",
       "\n",
       "d3.json(Roundtrip.data).then(function(root) {\n",
       "    console.log(root);\n",
       "  root = d3.hierarchy(root)\n",
       "                .sum(d => d.size)\n",
       "                .sort((a,b) => b.value - a.value);\n",
       "\n",
       "  partition(root);\n",
       "  \n",
       "  x.domain([0, root.value]).nice();\n",
       "  down(root, 0);\n",
       "});\n",
       "\n",
       "function down(d, i) {\n",
       "//   if (!d.children || this.__transition__) return;\n",
       "  if (!d.children ) return;\n",
       "  var end = duration + d.children.length * delay;\n",
       "\n",
       "  // Mark any currently-displayed bars as exiting.\n",
       "  var exit = svg.selectAll(\".enter\")\n",
       "      .attr(\"class\", \"exit\");\n",
       "\n",
       "  // Entering nodes immediately obscure the clicked-on bar, so hide it.\n",
       "  exit.selectAll(\"rect\").filter(function(p) { return p === d; })\n",
       "      .style(\"fill-opacity\", 1e-6);\n",
       "\n",
       "  // Enter the new bars for the clicked-on data.\n",
       "  // Per above, entering bars are immediately visible.\n",
       "  var enter = bar(d)\n",
       "      .attr(\"transform\", stack(i))\n",
       "      .style(\"opacity\", 1);\n",
       "\n",
       "  // Have the text fade-in, even though the bars are visible.\n",
       "  // Color the bars as parents; they will fade to children if appropriate.\n",
       "  enter.select(\"text\").style(\"fill-opacity\", 1e-6);\n",
       "  enter.select(\"rect\").style(\"fill\", color(true));\n",
       "\n",
       "  // Update the x-scale domain.\n",
       "  x.domain([0, d3.max(d.children, function(d) { return d.value; })]).nice();\n",
       "\n",
       "  // Update the x-axis.\n",
       "  svg.selectAll(\".x.axis\").transition()\n",
       "      .duration(duration)\n",
       "      .call(xAxis);\n",
       "\n",
       "  // Transition entering bars to their new position.\n",
       "  var enterTransition = enter.transition()\n",
       "      .duration(duration)\n",
       "      .delay(function(d, i) { return i * delay; })\n",
       "      .attr(\"transform\", function(d, i) { return \"translate(0,\" + barHeight * i * 1.2 + \")\"; });\n",
       "\n",
       "  // Transition entering text.\n",
       "  enterTransition.select(\"text\")\n",
       "      .style(\"fill-opacity\", 1);\n",
       "\n",
       "  // Transition entering rects to the new x-scale.\n",
       "  enterTransition.select(\"rect\")\n",
       "      .attr(\"width\", function(d) { return x(d.value); })\n",
       "      .style(\"fill\", function(d) { return color(!!d.children); });\n",
       "\n",
       "  // Transition exiting bars to fade out.\n",
       "  var exitTransition = exit.transition()\n",
       "      .duration(duration)\n",
       "      .style(\"opacity\", 1e-6)\n",
       "      .remove();\n",
       "\n",
       "  // Transition exiting bars to the new x-scale.\n",
       "  exitTransition.selectAll(\"rect\")\n",
       "      .attr(\"width\", function(d) { return x(d.value); });\n",
       "\n",
       "  // Rebind the current node to the background.\n",
       "  svg.select(\".background\")\n",
       "      .datum(d)\n",
       "    .transition()\n",
       "      .duration(end);\n",
       "\n",
       "  d.index = i;\n",
       "}\n",
       "\n",
       "function up(d) {\n",
       "    if (!d.parent ) return;\n",
       "  var end = duration + d.children.length * delay;\n",
       "\n",
       "  // Mark any currently-displayed bars as exiting.\n",
       "  var exit = svg.selectAll(\".enter\")\n",
       "      .attr(\"class\", \"exit\");\n",
       "\n",
       "  // Enter the new bars for the clicked-on data's parent.\n",
       "  var enter = bar(d.parent)\n",
       "      .attr(\"transform\", function(d, i) { return \"translate(0,\" + barHeight * i * 1.2 + \")\"; })\n",
       "      .style(\"opacity\", 1e-6);\n",
       "\n",
       "  // Color the bars as appropriate.\n",
       "  // Exiting nodes will obscure the parent bar, so hide it.\n",
       "  enter.select(\"rect\")\n",
       "      .style(\"fill\", function(d) { return color(!!d.children); })\n",
       "    .filter(function(p) { return p === d; })\n",
       "      .style(\"fill-opacity\", 1e-6);\n",
       "\n",
       "  // Update the x-scale domain.\n",
       "  x.domain([0, d3.max(d.parent.children, function(d) { return d.value; })]).nice();\n",
       "\n",
       "  // Update the x-axis.\n",
       "  svg.selectAll(\".x.axis\").transition()\n",
       "      .duration(duration)\n",
       "      .call(xAxis);\n",
       "\n",
       "  // Transition entering bars to fade in over the full duration.\n",
       "  var enterTransition = enter.transition()\n",
       "      .duration(end)\n",
       "      .style(\"opacity\", 1);\n",
       "\n",
       "  // Transition entering rects to the new x-scale.\n",
       "  // When the entering parent rect is done, make it visible!\n",
       "  enterTransition.select(\"rect\")\n",
       "      .attr(\"width\", function(d) { return x(d.value); })\n",
       "      .on(\"end\",function(p) { if (p === d) d3.select(this).style(\"fill-opacity\", null); });\n",
       "\n",
       "  // Transition exiting bars to the parent's position.\n",
       "  var exitTransition = exit.selectAll(\"g\").transition()\n",
       "      .duration(duration)\n",
       "      .delay(function(d, i) { return i * delay; })\n",
       "      .attr(\"transform\", stack(d.index));\n",
       "\n",
       "  // Transition exiting text to fade out.\n",
       "  exitTransition.select(\"text\")\n",
       "      .style(\"fill-opacity\", 1e-6);\n",
       "\n",
       "  // Transition exiting rects to the new scale and fade to parent color.\n",
       "  exitTransition.select(\"rect\")\n",
       "      .attr(\"width\", function(d) { return x(d.value); })\n",
       "      .style(\"fill\", color(true));\n",
       "\n",
       "  // Remove exiting nodes when the last child has finished transitioning.\n",
       "  exit.transition()\n",
       "      .duration(end)\n",
       "      .remove();\n",
       "\n",
       "  // Rebind the current parent to the background.\n",
       "  svg.select(\".background\")\n",
       "      .datum(d.parent)\n",
       "    .transition()\n",
       "      .duration(end);\n",
       "}\n",
       "\n",
       "// Creates a set of bars for the given data node, at the specified index.\n",
       "function bar(d) {\n",
       "  var bar = svg.insert(\"g\", \".y.axis\")\n",
       "      .attr(\"class\", \"enter\")\n",
       "      .attr(\"transform\", \"translate(0,5)\")\n",
       "    .selectAll(\"g\")\n",
       "      .data(d.children)\n",
       "    .enter().append(\"g\")\n",
       "      .style(\"cursor\", function(d) { return !d.children ? null : \"pointer\"; })\n",
       "      .on(\"click\", down);\n",
       "\n",
       "  bar.append(\"text\")\n",
       "      .attr(\"x\", -6)\n",
       "      .attr(\"y\", barHeight / 2)\n",
       "      .attr(\"dy\", \".35em\")\n",
       "      .style(\"text-anchor\", \"end\")\n",
       "      .text(function(d) { return d.data.name; });\n",
       "\n",
       "  bar.append(\"rect\")\n",
       "      .attr(\"width\", function(d) { return x(d.value); })\n",
       "      .attr(\"height\", barHeight);\n",
       "\n",
       "  return bar;\n",
       "}\n",
       "\n",
       "// A stateful closure for stacking bars horizontally.\n",
       "function stack(i) {\n",
       "  var x0 = 0;\n",
       "  return function(d) {\n",
       "    var tx = \"translate(\" + x0 + \",\" + barHeight * i * 1.2 + \")\";\n",
       "    x0 += x(d.value);\n",
       "    return tx;\n",
       "  };\n",
       "}\n",
       "\n",
       "\n",
       "})\n",
       "})(element[0]);\n"
      ],
      "text/plain": [
       "<IPython.core.display.Javascript object>"
      ]
     },
     "metadata": {},
     "output_type": "display_data"
    }
   ],
   "source": [
    "%bargraph"
   ]
  },
  {
   "cell_type": "code",
   "execution_count": 46,
   "metadata": {},
   "outputs": [
    {
     "data": {
      "text/html": [
       "<div>\n",
       "<style scoped>\n",
       "    .dataframe tbody tr th:only-of-type {\n",
       "        vertical-align: middle;\n",
       "    }\n",
       "\n",
       "    .dataframe tbody tr th {\n",
       "        vertical-align: top;\n",
       "    }\n",
       "\n",
       "    .dataframe thead th {\n",
       "        text-align: right;\n",
       "    }\n",
       "</style>\n",
       "<table border=\"1\" class=\"dataframe\">\n",
       "  <thead>\n",
       "    <tr style=\"text-align: right;\">\n",
       "      <th></th>\n",
       "      <th>Code</th>\n",
       "      <th>Year</th>\n",
       "      <th>Electricity from coal (TWh)</th>\n",
       "      <th>Electricity from gas (TWh)</th>\n",
       "      <th>Electricity from hydro (TWh)</th>\n",
       "      <th>Electricity from other renewables (TWh)</th>\n",
       "      <th>Electricity from solar (TWh)</th>\n",
       "      <th>Electricity from oil (TWh)</th>\n",
       "      <th>Electricity from wind (TWh)</th>\n",
       "      <th>Electricity from nuclear (TWh)</th>\n",
       "    </tr>\n",
       "    <tr>\n",
       "      <th>Entity</th>\n",
       "      <th></th>\n",
       "      <th></th>\n",
       "      <th></th>\n",
       "      <th></th>\n",
       "      <th></th>\n",
       "      <th></th>\n",
       "      <th></th>\n",
       "      <th></th>\n",
       "      <th></th>\n",
       "      <th></th>\n",
       "    </tr>\n",
       "  </thead>\n",
       "  <tbody>\n",
       "    <tr>\n",
       "      <th>Afghanistan</th>\n",
       "      <td>AFG</td>\n",
       "      <td>2019</td>\n",
       "      <td>0.000000</td>\n",
       "      <td>0.344000</td>\n",
       "      <td>1.050000</td>\n",
       "      <td>0.000000</td>\n",
       "      <td>0.040000</td>\n",
       "      <td>0.000000</td>\n",
       "      <td>0.000100</td>\n",
       "      <td>0.000000</td>\n",
       "    </tr>\n",
       "    <tr>\n",
       "      <th>Africa</th>\n",
       "      <td>NaN</td>\n",
       "      <td>2019</td>\n",
       "      <td>262.470414</td>\n",
       "      <td>340.472820</td>\n",
       "      <td>132.734791</td>\n",
       "      <td>8.184247</td>\n",
       "      <td>19.377978</td>\n",
       "      <td>92.816685</td>\n",
       "      <td>17.508052</td>\n",
       "      <td>15.913439</td>\n",
       "    </tr>\n",
       "    <tr>\n",
       "      <th>Albania</th>\n",
       "      <td>ALB</td>\n",
       "      <td>2019</td>\n",
       "      <td>0.000000</td>\n",
       "      <td>0.000000</td>\n",
       "      <td>8.466480</td>\n",
       "      <td>0.000000</td>\n",
       "      <td>0.022000</td>\n",
       "      <td>0.163560</td>\n",
       "      <td>0.000000</td>\n",
       "      <td>0.000000</td>\n",
       "    </tr>\n",
       "    <tr>\n",
       "      <th>Algeria</th>\n",
       "      <td>DZA</td>\n",
       "      <td>2019</td>\n",
       "      <td>0.000000</td>\n",
       "      <td>73.615787</td>\n",
       "      <td>0.646000</td>\n",
       "      <td>0.000000</td>\n",
       "      <td>0.615000</td>\n",
       "      <td>0.000000</td>\n",
       "      <td>0.029000</td>\n",
       "      <td>0.000000</td>\n",
       "    </tr>\n",
       "    <tr>\n",
       "      <th>American Samoa</th>\n",
       "      <td>ASM</td>\n",
       "      <td>2019</td>\n",
       "      <td>0.000000</td>\n",
       "      <td>0.000000</td>\n",
       "      <td>0.000000</td>\n",
       "      <td>0.000000</td>\n",
       "      <td>0.000000</td>\n",
       "      <td>0.187000</td>\n",
       "      <td>0.000000</td>\n",
       "      <td>0.000000</td>\n",
       "    </tr>\n",
       "    <tr>\n",
       "      <th>...</th>\n",
       "      <td>...</td>\n",
       "      <td>...</td>\n",
       "      <td>...</td>\n",
       "      <td>...</td>\n",
       "      <td>...</td>\n",
       "      <td>...</td>\n",
       "      <td>...</td>\n",
       "      <td>...</td>\n",
       "      <td>...</td>\n",
       "      <td>...</td>\n",
       "    </tr>\n",
       "    <tr>\n",
       "      <th>Western Sahara</th>\n",
       "      <td>ESH</td>\n",
       "      <td>2019</td>\n",
       "      <td>0.000000</td>\n",
       "      <td>0.000000</td>\n",
       "      <td>0.000000</td>\n",
       "      <td>0.000000</td>\n",
       "      <td>0.000000</td>\n",
       "      <td>0.090000</td>\n",
       "      <td>0.000000</td>\n",
       "      <td>0.000000</td>\n",
       "    </tr>\n",
       "    <tr>\n",
       "      <th>World</th>\n",
       "      <td>OWID_WRL</td>\n",
       "      <td>2020</td>\n",
       "      <td>9345.340997</td>\n",
       "      <td>5943.112329</td>\n",
       "      <td>4355.041636</td>\n",
       "      <td>702.887552</td>\n",
       "      <td>844.385951</td>\n",
       "      <td>1364.578206</td>\n",
       "      <td>1590.189440</td>\n",
       "      <td>2720.674471</td>\n",
       "    </tr>\n",
       "    <tr>\n",
       "      <th>Yemen</th>\n",
       "      <td>YEM</td>\n",
       "      <td>2019</td>\n",
       "      <td>0.000000</td>\n",
       "      <td>3.058733</td>\n",
       "      <td>0.000000</td>\n",
       "      <td>0.000000</td>\n",
       "      <td>0.500000</td>\n",
       "      <td>6.339360</td>\n",
       "      <td>0.000000</td>\n",
       "      <td>0.000000</td>\n",
       "    </tr>\n",
       "    <tr>\n",
       "      <th>Zambia</th>\n",
       "      <td>ZMB</td>\n",
       "      <td>2019</td>\n",
       "      <td>1.998501</td>\n",
       "      <td>0.000000</td>\n",
       "      <td>13.902000</td>\n",
       "      <td>0.080073</td>\n",
       "      <td>0.002432</td>\n",
       "      <td>1.003232</td>\n",
       "      <td>0.000000</td>\n",
       "      <td>0.000000</td>\n",
       "    </tr>\n",
       "    <tr>\n",
       "      <th>Zimbabwe</th>\n",
       "      <td>ZWE</td>\n",
       "      <td>2019</td>\n",
       "      <td>4.614000</td>\n",
       "      <td>0.000000</td>\n",
       "      <td>5.741000</td>\n",
       "      <td>0.206667</td>\n",
       "      <td>0.014000</td>\n",
       "      <td>0.000000</td>\n",
       "      <td>0.000000</td>\n",
       "      <td>0.000000</td>\n",
       "    </tr>\n",
       "  </tbody>\n",
       "</table>\n",
       "<p>235 rows × 10 columns</p>\n",
       "</div>"
      ],
      "text/plain": [
       "                    Code  Year  Electricity from coal (TWh)  \\\n",
       "Entity                                                        \n",
       "Afghanistan          AFG  2019                     0.000000   \n",
       "Africa               NaN  2019                   262.470414   \n",
       "Albania              ALB  2019                     0.000000   \n",
       "Algeria              DZA  2019                     0.000000   \n",
       "American Samoa       ASM  2019                     0.000000   \n",
       "...                  ...   ...                          ...   \n",
       "Western Sahara       ESH  2019                     0.000000   \n",
       "World           OWID_WRL  2020                  9345.340997   \n",
       "Yemen                YEM  2019                     0.000000   \n",
       "Zambia               ZMB  2019                     1.998501   \n",
       "Zimbabwe             ZWE  2019                     4.614000   \n",
       "\n",
       "                Electricity from gas (TWh)  Electricity from hydro (TWh)  \\\n",
       "Entity                                                                     \n",
       "Afghanistan                       0.344000                      1.050000   \n",
       "Africa                          340.472820                    132.734791   \n",
       "Albania                           0.000000                      8.466480   \n",
       "Algeria                          73.615787                      0.646000   \n",
       "American Samoa                    0.000000                      0.000000   \n",
       "...                                    ...                           ...   \n",
       "Western Sahara                    0.000000                      0.000000   \n",
       "World                          5943.112329                   4355.041636   \n",
       "Yemen                             3.058733                      0.000000   \n",
       "Zambia                            0.000000                     13.902000   \n",
       "Zimbabwe                          0.000000                      5.741000   \n",
       "\n",
       "                Electricity from other renewables (TWh)  \\\n",
       "Entity                                                    \n",
       "Afghanistan                                    0.000000   \n",
       "Africa                                         8.184247   \n",
       "Albania                                        0.000000   \n",
       "Algeria                                        0.000000   \n",
       "American Samoa                                 0.000000   \n",
       "...                                                 ...   \n",
       "Western Sahara                                 0.000000   \n",
       "World                                        702.887552   \n",
       "Yemen                                          0.000000   \n",
       "Zambia                                         0.080073   \n",
       "Zimbabwe                                       0.206667   \n",
       "\n",
       "                Electricity from solar (TWh)  Electricity from oil (TWh)  \\\n",
       "Entity                                                                     \n",
       "Afghanistan                         0.040000                    0.000000   \n",
       "Africa                             19.377978                   92.816685   \n",
       "Albania                             0.022000                    0.163560   \n",
       "Algeria                             0.615000                    0.000000   \n",
       "American Samoa                      0.000000                    0.187000   \n",
       "...                                      ...                         ...   \n",
       "Western Sahara                      0.000000                    0.090000   \n",
       "World                             844.385951                 1364.578206   \n",
       "Yemen                               0.500000                    6.339360   \n",
       "Zambia                              0.002432                    1.003232   \n",
       "Zimbabwe                            0.014000                    0.000000   \n",
       "\n",
       "                Electricity from wind (TWh)  Electricity from nuclear (TWh)  \n",
       "Entity                                                                       \n",
       "Afghanistan                        0.000100                        0.000000  \n",
       "Africa                            17.508052                       15.913439  \n",
       "Albania                            0.000000                        0.000000  \n",
       "Algeria                            0.029000                        0.000000  \n",
       "American Samoa                     0.000000                        0.000000  \n",
       "...                                     ...                             ...  \n",
       "Western Sahara                     0.000000                        0.000000  \n",
       "World                           1590.189440                     2720.674471  \n",
       "Yemen                              0.000000                        0.000000  \n",
       "Zambia                             0.000000                        0.000000  \n",
       "Zimbabwe                           0.000000                        0.000000  \n",
       "\n",
       "[235 rows x 10 columns]"
      ]
     },
     "execution_count": 46,
     "metadata": {},
     "output_type": "execute_result"
    }
   ],
   "source": [
    "dataset = pd.read_csv('Examples/Electricity_Production_By_Source.csv')\n",
    "agg = dataset.groupby(['Entity']).max()\n",
    "agg"
   ]
  },
  {
   "cell_type": "code",
   "execution_count": null,
   "metadata": {},
   "outputs": [],
   "source": [
    "# %basic df mode=lock updates= automatic updates=manual"
   ]
  },
  {
   "cell_type": "code",
   "execution_count": null,
   "metadata": {},
   "outputs": [],
   "source": [
    "# %fetch_basic x"
   ]
  },
  {
   "cell_type": "code",
   "execution_count": null,
   "metadata": {},
   "outputs": [],
   "source": [
    "# print(x)"
   ]
  },
  {
   "cell_type": "code",
   "execution_count": null,
   "metadata": {},
   "outputs": [],
   "source": [
    "# %watch-scatterplot-selection select \n",
    "# %watch-scatteplot-x"
   ]
  },
  {
   "cell_type": "code",
   "execution_count": null,
   "metadata": {},
   "outputs": [],
   "source": [
    "# mode=lock updates= automatic updates=manual"
   ]
  }
 ],
 "metadata": {
  "kernelspec": {
   "display_name": "Python 3",
   "language": "python",
   "name": "python3"
  },
  "language_info": {
   "codemirror_mode": {
    "name": "ipython",
    "version": 3
   },
   "file_extension": ".py",
   "mimetype": "text/x-python",
   "name": "python",
   "nbconvert_exporter": "python",
   "pygments_lexer": "ipython3",
   "version": "3.8.10"
  }
 },
 "nbformat": 4,
 "nbformat_minor": 4
}
