{
 "cells": [
  {
   "cell_type": "code",
   "execution_count": 8,
   "metadata": {},
   "outputs": [
    {
     "name": "stdout",
     "output_type": "stream",
     "text": [
      "The examples extension is already loaded. To reload it, use:\n",
      "  %reload_ext examples\n"
     ]
    }
   ],
   "source": [
    "import pandas as pd\n",
    "%load_ext examples"
   ]
  },
  {
   "cell_type": "code",
   "execution_count": 9,
   "metadata": {},
   "outputs": [],
   "source": [
    "df = pd.DataFrame({\n",
    "        'vals':[1.0, 2.2, 3.1],\n",
    "        'categs':['a', 'a', 'b']\n",
    "})"
   ]
  },
  {
   "cell_type": "markdown",
   "metadata": {},
   "source": [
    "This following code would be provided by the roundtrip library"
   ]
  },
  {
   "cell_type": "markdown",
   "metadata": {},
   "source": [
    "This code would be implementation specific eg. hatchet's cct.\n",
    "Should this use a wrapper to automatically watch the passed in data?"
   ]
  },
  {
   "cell_type": "code",
   "execution_count": 10,
   "metadata": {
    "scrolled": true
   },
   "outputs": [
    {
     "data": {
      "text/html": [
       "<script src='roundtrip.js' type='text/javascript'></script><script src='Examples/source/Basic/basic.js' type='text/javascript'></script>\n",
       "<head>\n",
       "</head>\n",
       "<body>\n",
       "    <div id=\"test\">HEYYY WHERE DO I GO?</div>\n",
       "    <div id=\"bee\"> BEEEEE</div>\n",
       "</body><script>Roundtrip.test = {\"x\":{\"0\":1,\"1\":2,\"2\":3,\"3\":4,\"4\":5},\"y\":{\"0\":0.2,\"1\":0.8,\"2\":10.7,\"3\":3.0,\"4\":2.1}}</script>"
      ],
      "text/plain": [
       "<IPython.core.display.HTML object>"
      ]
     },
     "metadata": {},
     "output_type": "display_data"
    }
   ],
   "source": [
    "%basic df mode=lock updates= automatic updates=manual"
   ]
  },
  {
   "cell_type": "code",
   "execution_count": 4,
   "metadata": {},
   "outputs": [
    {
     "name": "stderr",
     "output_type": "stream",
     "text": [
      "UsageError: Line magic function `%report` not found.\n"
     ]
    }
   ],
   "source": [
    "%report"
   ]
  },
  {
   "cell_type": "code",
   "execution_count": 9,
   "metadata": {},
   "outputs": [
    {
     "data": {
      "text/html": [
       "<script src='Examples/source/Basic/basic.js' type='text/javascript'></script>\n",
       "<head>\n",
       "    <script>console.log(\"fromhtml\")</script>\n",
       "</head>\n",
       "<body>\n",
       "    <div id=\"test\">HEYYY WHERE DO I GO?</div>\n",
       "    <div id=\"bee\"> BEEEEE</div>\n",
       "</body>"
      ],
      "text/plain": [
       "<IPython.core.display.HTML object>"
      ]
     },
     "metadata": {},
     "output_type": "display_data"
    }
   ],
   "source": [
    "%basic df mode=lock updates= automatic updates=manual"
   ]
  },
  {
   "cell_type": "code",
   "execution_count": null,
   "metadata": {},
   "outputs": [],
   "source": [
    "%watch-scatterplot-selection select #this is a hatchet function\n",
    "%watch-scatteplot-x"
   ]
  }
 ],
 "metadata": {
  "kernelspec": {
   "display_name": "Python 3",
   "language": "python",
   "name": "python3"
  },
  "language_info": {
   "codemirror_mode": {
    "name": "ipython",
    "version": 3
   },
   "file_extension": ".py",
   "mimetype": "text/x-python",
   "name": "python",
   "nbconvert_exporter": "python",
   "pygments_lexer": "ipython3",
   "version": "3.7.5"
  }
 },
 "nbformat": 4,
 "nbformat_minor": 4
}
