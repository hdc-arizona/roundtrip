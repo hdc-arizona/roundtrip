{
 "cells": [
  {
   "cell_type": "code",
   "execution_count": null,
   "id": "6854717b",
   "metadata": {},
   "outputs": [],
   "source": [
    "import pandas as pd\n",
    "import json\n",
    "import sys, os\n",
    "import pycountry_convert as pc\n",
    "\n",
    "#using gross syntax for relative import; will be fixed with packaging and bundling\n",
    "# This is the relative path from the notebook to our vis extensions\n",
    "example_code = '../../roundtrip/example_code/'\n",
    "vis_path = os.path.join(example_code, 'magics_source')\n",
    "\n",
    "\n",
    "# Add the path so that the notebook can find the Roundtrip extension\n",
    "module_path = os.path.abspath(os.path.join(vis_path)) \n",
    "if module_path not in sys.path:\n",
    "    sys.path.append(module_path)\n",
    "\n",
    "\n",
    "%load_ext table\n",
    "%load_ext scatter"
   ]
  },
  {
   "cell_type": "markdown",
   "id": "7b4722af",
   "metadata": {},
   "source": [
    "# Support for Current CCT VIS Workflow in Hatchet"
   ]
  },
  {
   "cell_type": "markdown",
   "id": "c5d8420a",
   "metadata": {},
   "source": [
    "We begin by loading real data, downloaded from Kaggle, into a pandas dataframe and loading derived information from that dataframe."
   ]
  },
  {
   "cell_type": "code",
   "execution_count": null,
   "id": "cbcbb49e",
   "metadata": {},
   "outputs": [],
   "source": [
    "dataset = pd.read_csv(os.path.join(example_code, 'data/Electricity_Production_By_Source.csv'))\n",
    "vis_in = dataset.groupby(['Entity']).max().reset_index()\n",
    "\n",
    "\n",
    "def getContinent(row):\n",
    "    try:\n",
    "        c_code = pc.country_name_to_country_alpha2(row['Entity'], cn_name_format='default')\n",
    "        return pc.country_alpha2_to_continent_code(c_code)\n",
    "    except:\n",
    "        return 'OTH'\n",
    "\n",
    "vis_in['Continent'] = vis_in.apply(getContinent, axis=1)"
   ]
  },
  {
   "cell_type": "code",
   "execution_count": null,
   "id": "6c88b752",
   "metadata": {},
   "outputs": [],
   "source": [
    "vis_in"
   ]
  },
  {
   "cell_type": "markdown",
   "id": "571b579a",
   "metadata": {},
   "source": [
    "We can use the basic functionality in roundtrip to pass this data into our scatterplot as a DataFrame (or other complex datatype). The visualization developer -- whoever built scatterplot -- will manage the necessary conversions."
   ]
  },
  {
   "cell_type": "code",
   "execution_count": null,
   "id": "13016277",
   "metadata": {},
   "outputs": [],
   "source": [
    "%scatter_plt vis_in"
   ]
  },
  {
   "cell_type": "markdown",
   "id": "b8d9c289",
   "metadata": {},
   "source": [
    "Once visualized, we can return our filter selections back to our notebook with a magic function provided by the visualization developer `get_filter`. This function makes a pass through call to a \"return\" function provided by our Roundtrip API and stores the data in `fltr`."
   ]
  },
  {
   "cell_type": "code",
   "execution_count": null,
   "id": "17f55c2c",
   "metadata": {},
   "outputs": [],
   "source": [
    "%get_filter fltr"
   ]
  },
  {
   "cell_type": "code",
   "execution_count": null,
   "id": "1fc00dc7",
   "metadata": {},
   "outputs": [],
   "source": [
    "fltr = json.loads(fltr)"
   ]
  },
  {
   "cell_type": "markdown",
   "id": "520b8bb1",
   "metadata": {},
   "source": [
    "`fltr` Is returned from the \"get_filter\" function as a jsonified string so we can load it and then filter our visualization. If we re-run our above `scatter_plt` cell we will see that the selected circles are now gone."
   ]
  },
  {
   "cell_type": "code",
   "execution_count": null,
   "id": "53853466",
   "metadata": {},
   "outputs": [],
   "source": [
    "vis_in = vis_in[~vis_in.index.isin(fltr)]"
   ]
  },
  {
   "cell_type": "code",
   "execution_count": null,
   "id": "db234905",
   "metadata": {},
   "outputs": [],
   "source": [
    "vis_in"
   ]
  }
 ],
 "metadata": {
  "kernelspec": {
   "display_name": "Python 3",
   "language": "python",
   "name": "python3"
  },
  "language_info": {
   "codemirror_mode": {
    "name": "ipython",
    "version": 3
   },
   "file_extension": ".py",
   "mimetype": "text/x-python",
   "name": "python",
   "nbconvert_exporter": "python",
   "pygments_lexer": "ipython3",
   "version": "3.8.10"
  }
 },
 "nbformat": 4,
 "nbformat_minor": 5
}
